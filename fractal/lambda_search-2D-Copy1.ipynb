{
 "cells": [
  {
   "cell_type": "code",
   "execution_count": 3,
   "metadata": {},
   "outputs": [
    {
     "name": "stderr",
     "output_type": "stream",
     "text": [
      "\r",
      "  0%|          | 0/1000 [00:00<?, ?it/s]"
     ]
    },
    {
     "name": "stdout",
     "output_type": "stream",
     "text": [
      "lamb=0.1\n"
     ]
    },
    {
     "name": "stderr",
     "output_type": "stream",
     "text": [
      "  1%|          | 10/1000 [00:02<04:55,  3.35it/s]"
     ]
    },
    {
     "name": "stdout",
     "output_type": "stream",
     "text": [
      "Epoch 10\n",
      "0.0715315192937851\n",
      "0.20914976298809052\n"
     ]
    },
    {
     "name": "stderr",
     "output_type": "stream",
     "text": [
      "  2%|▏         | 20/1000 [00:05<04:40,  3.49it/s]"
     ]
    },
    {
     "name": "stdout",
     "output_type": "stream",
     "text": [
      "Epoch 20\n",
      "0.04419320449233055\n",
      "0.23575131595134735\n"
     ]
    },
    {
     "name": "stderr",
     "output_type": "stream",
     "text": [
      "  3%|▎         | 30/1000 [00:08<04:42,  3.44it/s]"
     ]
    },
    {
     "name": "stdout",
     "output_type": "stream",
     "text": [
      "Epoch 30\n",
      "0.01635894551873207\n",
      "0.1986309289932251\n"
     ]
    },
    {
     "name": "stderr",
     "output_type": "stream",
     "text": [
      "  4%|▍         | 40/1000 [00:11<03:23,  4.72it/s]"
     ]
    },
    {
     "name": "stdout",
     "output_type": "stream",
     "text": [
      "Epoch 40\n",
      "0.010459985584020615\n",
      "0.18814797699451447\n"
     ]
    },
    {
     "name": "stderr",
     "output_type": "stream",
     "text": [
      "  5%|▌         | 50/1000 [00:13<03:18,  4.78it/s]"
     ]
    },
    {
     "name": "stdout",
     "output_type": "stream",
     "text": [
      "Epoch 50\n",
      "0.010511195287108421\n",
      "0.19254851341247559\n"
     ]
    },
    {
     "name": "stderr",
     "output_type": "stream",
     "text": [
      "  6%|▌         | 61/1000 [00:15<03:07,  5.02it/s]"
     ]
    },
    {
     "name": "stdout",
     "output_type": "stream",
     "text": [
      "Epoch 60\n",
      "0.009187591262161732\n",
      "0.17649292945861816\n"
     ]
    },
    {
     "name": "stderr",
     "output_type": "stream",
     "text": [
      "  7%|▋         | 71/1000 [00:17<03:01,  5.11it/s]"
     ]
    },
    {
     "name": "stdout",
     "output_type": "stream",
     "text": [
      "Epoch 70\n",
      "0.005345316603779793\n",
      "0.1725270003080368\n"
     ]
    },
    {
     "name": "stderr",
     "output_type": "stream",
     "text": [
      "  8%|▊         | 80/1000 [00:19<03:01,  5.06it/s]"
     ]
    },
    {
     "name": "stdout",
     "output_type": "stream",
     "text": [
      "Epoch 80\n",
      "0.005435727536678314\n",
      "0.18084187805652618\n"
     ]
    },
    {
     "name": "stderr",
     "output_type": "stream",
     "text": [
      "  9%|▉         | 91/1000 [00:21<03:01,  5.01it/s]"
     ]
    },
    {
     "name": "stdout",
     "output_type": "stream",
     "text": [
      "Epoch 90\n",
      "0.00450690183788538\n",
      "0.1695045679807663\n"
     ]
    },
    {
     "name": "stderr",
     "output_type": "stream",
     "text": [
      " 10%|█         | 101/1000 [00:23<02:58,  5.03it/s]"
     ]
    },
    {
     "name": "stdout",
     "output_type": "stream",
     "text": [
      "Epoch 100\n",
      "0.004487251862883568\n",
      "0.16786861419677734\n"
     ]
    },
    {
     "name": "stderr",
     "output_type": "stream",
     "text": [
      " 11%|█         | 110/1000 [00:25<02:55,  5.06it/s]"
     ]
    },
    {
     "name": "stdout",
     "output_type": "stream",
     "text": [
      "Epoch 110\n",
      "0.004928180482238531\n",
      "0.166925311088562\n"
     ]
    },
    {
     "name": "stderr",
     "output_type": "stream",
     "text": [
      " 12%|█▏        | 120/1000 [00:27<03:20,  4.39it/s]"
     ]
    },
    {
     "name": "stdout",
     "output_type": "stream",
     "text": [
      "Epoch 120\n",
      "0.003523323219269514\n",
      "0.1608150452375412\n"
     ]
    },
    {
     "name": "stderr",
     "output_type": "stream",
     "text": [
      " 13%|█▎        | 130/1000 [00:30<04:36,  3.14it/s]"
     ]
    },
    {
     "name": "stdout",
     "output_type": "stream",
     "text": [
      "Epoch 130\n",
      "0.0033752722665667534\n",
      "0.15749816596508026\n"
     ]
    },
    {
     "name": "stderr",
     "output_type": "stream",
     "text": [
      " 14%|█▍        | 140/1000 [00:33<03:54,  3.66it/s]"
     ]
    },
    {
     "name": "stdout",
     "output_type": "stream",
     "text": [
      "Epoch 140\n",
      "0.0033859123941510916\n",
      "0.16649897396564484\n"
     ]
    },
    {
     "name": "stderr",
     "output_type": "stream",
     "text": [
      " 15%|█▌        | 150/1000 [00:36<05:01,  2.82it/s]"
     ]
    },
    {
     "name": "stdout",
     "output_type": "stream",
     "text": [
      "Epoch 150\n",
      "0.0028123357333242893\n",
      "0.15515537559986115\n"
     ]
    },
    {
     "name": "stderr",
     "output_type": "stream",
     "text": [
      " 16%|█▌        | 160/1000 [00:41<08:02,  1.74it/s]"
     ]
    },
    {
     "name": "stdout",
     "output_type": "stream",
     "text": [
      "Epoch 160\n",
      "0.0022767686750739813\n",
      "0.15283577144145966\n"
     ]
    },
    {
     "name": "stderr",
     "output_type": "stream",
     "text": [
      " 17%|█▋        | 170/1000 [00:46<07:04,  1.95it/s]"
     ]
    },
    {
     "name": "stdout",
     "output_type": "stream",
     "text": [
      "Epoch 170\n",
      "0.0014528887113556266\n",
      "0.15663953125476837\n"
     ]
    },
    {
     "name": "stderr",
     "output_type": "stream",
     "text": [
      " 18%|█▊        | 180/1000 [00:51<06:54,  1.98it/s]"
     ]
    },
    {
     "name": "stdout",
     "output_type": "stream",
     "text": [
      "Epoch 180\n",
      "0.0031315768137574196\n",
      "0.1587744951248169\n"
     ]
    },
    {
     "name": "stderr",
     "output_type": "stream",
     "text": [
      " 19%|█▉        | 190/1000 [00:56<07:22,  1.83it/s]"
     ]
    },
    {
     "name": "stdout",
     "output_type": "stream",
     "text": [
      "Epoch 190\n",
      "0.0037216958589851856\n",
      "0.15295100212097168\n"
     ]
    },
    {
     "name": "stderr",
     "output_type": "stream",
     "text": [
      " 20%|██        | 200/1000 [01:01<06:31,  2.04it/s]"
     ]
    },
    {
     "name": "stdout",
     "output_type": "stream",
     "text": [
      "Epoch 200\n",
      "0.003028669161722064\n",
      "0.15640433132648468\n"
     ]
    },
    {
     "name": "stderr",
     "output_type": "stream",
     "text": [
      " 21%|██        | 210/1000 [01:06<06:46,  1.95it/s]"
     ]
    },
    {
     "name": "stdout",
     "output_type": "stream",
     "text": [
      "Epoch 210\n",
      "0.002467169426381588\n",
      "0.1578197479248047\n"
     ]
    },
    {
     "name": "stderr",
     "output_type": "stream",
     "text": [
      " 22%|██▏       | 220/1000 [01:11<06:39,  1.95it/s]"
     ]
    },
    {
     "name": "stdout",
     "output_type": "stream",
     "text": [
      "Epoch 220\n",
      "0.0028933980502188206\n",
      "0.14872853457927704\n"
     ]
    },
    {
     "name": "stderr",
     "output_type": "stream",
     "text": [
      " 23%|██▎       | 230/1000 [01:17<07:12,  1.78it/s]"
     ]
    },
    {
     "name": "stdout",
     "output_type": "stream",
     "text": [
      "Epoch 230\n",
      "0.0024915046524256468\n",
      "0.14669887721538544\n"
     ]
    },
    {
     "name": "stderr",
     "output_type": "stream",
     "text": [
      " 24%|██▍       | 240/1000 [01:22<07:04,  1.79it/s]"
     ]
    },
    {
     "name": "stdout",
     "output_type": "stream",
     "text": [
      "Epoch 240\n",
      "0.001731009455397725\n",
      "0.14661498367786407\n"
     ]
    },
    {
     "name": "stderr",
     "output_type": "stream",
     "text": [
      " 25%|██▌       | 250/1000 [01:28<06:43,  1.86it/s]"
     ]
    },
    {
     "name": "stdout",
     "output_type": "stream",
     "text": [
      "Epoch 250\n",
      "0.002285126131027937\n",
      "0.1458699256181717\n"
     ]
    },
    {
     "name": "stderr",
     "output_type": "stream",
     "text": [
      " 26%|██▌       | 260/1000 [01:33<06:23,  1.93it/s]"
     ]
    },
    {
     "name": "stdout",
     "output_type": "stream",
     "text": [
      "Epoch 260\n",
      "0.0025664728600531816\n",
      "0.15003538131713867\n"
     ]
    },
    {
     "name": "stderr",
     "output_type": "stream",
     "text": [
      " 27%|██▋       | 270/1000 [01:40<08:18,  1.46it/s]"
     ]
    },
    {
     "name": "stdout",
     "output_type": "stream",
     "text": [
      "Epoch 270\n",
      "0.001321905292570591\n",
      "0.14418618381023407\n"
     ]
    },
    {
     "name": "stderr",
     "output_type": "stream",
     "text": [
      " 28%|██▊       | 280/1000 [01:46<07:33,  1.59it/s]"
     ]
    },
    {
     "name": "stdout",
     "output_type": "stream",
     "text": [
      "Epoch 280\n",
      "0.0019424236379563808\n",
      "0.15111951529979706\n"
     ]
    },
    {
     "name": "stderr",
     "output_type": "stream",
     "text": [
      " 29%|██▉       | 290/1000 [01:52<06:39,  1.78it/s]"
     ]
    },
    {
     "name": "stdout",
     "output_type": "stream",
     "text": [
      "Epoch 290\n",
      "0.0024477732367813587\n",
      "0.14424018561840057\n"
     ]
    },
    {
     "name": "stderr",
     "output_type": "stream",
     "text": [
      " 30%|███       | 300/1000 [01:57<06:25,  1.82it/s]"
     ]
    },
    {
     "name": "stdout",
     "output_type": "stream",
     "text": [
      "Epoch 300\n",
      "0.0017455366905778646\n",
      "0.1489899903535843\n"
     ]
    },
    {
     "name": "stderr",
     "output_type": "stream",
     "text": [
      " 31%|███       | 310/1000 [02:03<06:23,  1.80it/s]"
     ]
    },
    {
     "name": "stdout",
     "output_type": "stream",
     "text": [
      "Epoch 310\n",
      "0.0018566142534837127\n",
      "0.1432870626449585\n"
     ]
    },
    {
     "name": "stderr",
     "output_type": "stream",
     "text": [
      " 32%|███▏      | 320/1000 [02:08<05:52,  1.93it/s]"
     ]
    },
    {
     "name": "stdout",
     "output_type": "stream",
     "text": [
      "Epoch 320\n",
      "0.0014378080377355218\n",
      "0.13933265209197998\n"
     ]
    },
    {
     "name": "stderr",
     "output_type": "stream",
     "text": [
      " 33%|███▎      | 330/1000 [02:14<06:36,  1.69it/s]"
     ]
    },
    {
     "name": "stdout",
     "output_type": "stream",
     "text": [
      "Epoch 330\n",
      "0.002151770982891321\n",
      "0.1427990198135376\n"
     ]
    },
    {
     "name": "stderr",
     "output_type": "stream",
     "text": [
      " 34%|███▍      | 340/1000 [02:20<06:12,  1.77it/s]"
     ]
    },
    {
     "name": "stdout",
     "output_type": "stream",
     "text": [
      "Epoch 340\n",
      "0.001422935863956809\n",
      "0.13535694777965546\n"
     ]
    },
    {
     "name": "stderr",
     "output_type": "stream",
     "text": [
      " 35%|███▌      | 350/1000 [02:25<05:30,  1.97it/s]"
     ]
    },
    {
     "name": "stdout",
     "output_type": "stream",
     "text": [
      "Epoch 350\n",
      "0.0020988951437175274\n",
      "0.14786100387573242\n"
     ]
    },
    {
     "name": "stderr",
     "output_type": "stream",
     "text": [
      " 36%|███▌      | 360/1000 [02:30<05:54,  1.81it/s]"
     ]
    },
    {
     "name": "stdout",
     "output_type": "stream",
     "text": [
      "Epoch 360\n",
      "0.0020388502161949873\n",
      "0.1379489153623581\n"
     ]
    },
    {
     "name": "stderr",
     "output_type": "stream",
     "text": [
      " 37%|███▋      | 370/1000 [02:35<05:14,  2.01it/s]"
     ]
    },
    {
     "name": "stdout",
     "output_type": "stream",
     "text": [
      "Epoch 370\n",
      "0.0018241119105368853\n",
      "0.14210732281208038\n"
     ]
    },
    {
     "name": "stderr",
     "output_type": "stream",
     "text": [
      " 38%|███▊      | 380/1000 [02:41<05:38,  1.83it/s]"
     ]
    },
    {
     "name": "stdout",
     "output_type": "stream",
     "text": [
      "Epoch 380\n",
      "0.0021889619529247284\n",
      "0.13861946761608124\n"
     ]
    },
    {
     "name": "stderr",
     "output_type": "stream",
     "text": [
      " 39%|███▉      | 390/1000 [02:47<06:20,  1.60it/s]"
     ]
    },
    {
     "name": "stdout",
     "output_type": "stream",
     "text": [
      "Epoch 390\n",
      "0.0015217557083815336\n",
      "0.14692549407482147\n"
     ]
    },
    {
     "name": "stderr",
     "output_type": "stream",
     "text": [
      " 40%|████      | 400/1000 [02:53<06:07,  1.63it/s]"
     ]
    },
    {
     "name": "stdout",
     "output_type": "stream",
     "text": [
      "Epoch 400\n",
      "0.0018823553109541535\n",
      "0.13978604972362518\n"
     ]
    },
    {
     "name": "stderr",
     "output_type": "stream",
     "text": [
      " 41%|████      | 410/1000 [02:59<05:59,  1.64it/s]"
     ]
    },
    {
     "name": "stdout",
     "output_type": "stream",
     "text": [
      "Epoch 410\n",
      "0.0011519799008965492\n",
      "0.13371579349040985\n"
     ]
    },
    {
     "name": "stderr",
     "output_type": "stream",
     "text": [
      " 42%|████▏     | 420/1000 [03:05<05:37,  1.72it/s]"
     ]
    },
    {
     "name": "stdout",
     "output_type": "stream",
     "text": [
      "Epoch 420\n",
      "0.0008477797382511199\n",
      "0.13616378605365753\n"
     ]
    },
    {
     "name": "stderr",
     "output_type": "stream",
     "text": [
      " 43%|████▎     | 430/1000 [03:11<05:32,  1.71it/s]"
     ]
    },
    {
     "name": "stdout",
     "output_type": "stream",
     "text": [
      "Epoch 430\n",
      "0.0010199646931141615\n",
      "0.13976208865642548\n"
     ]
    },
    {
     "name": "stderr",
     "output_type": "stream",
     "text": [
      " 44%|████▍     | 440/1000 [03:16<05:13,  1.78it/s]"
     ]
    },
    {
     "name": "stdout",
     "output_type": "stream",
     "text": [
      "Epoch 440\n",
      "0.0015102745965123177\n",
      "0.13945889472961426\n"
     ]
    },
    {
     "name": "stderr",
     "output_type": "stream",
     "text": [
      " 45%|████▌     | 450/1000 [03:21<05:09,  1.78it/s]"
     ]
    },
    {
     "name": "stdout",
     "output_type": "stream",
     "text": [
      "Epoch 450\n",
      "0.0012741493992507458\n",
      "0.13629122078418732\n"
     ]
    },
    {
     "name": "stderr",
     "output_type": "stream",
     "text": [
      " 46%|████▌     | 460/1000 [03:27<04:40,  1.93it/s]"
     ]
    },
    {
     "name": "stdout",
     "output_type": "stream",
     "text": [
      "Epoch 460\n",
      "0.001361097558401525\n",
      "0.13874268531799316\n"
     ]
    },
    {
     "name": "stderr",
     "output_type": "stream",
     "text": [
      " 47%|████▋     | 470/1000 [03:33<05:17,  1.67it/s]"
     ]
    },
    {
     "name": "stdout",
     "output_type": "stream",
     "text": [
      "Epoch 470\n",
      "0.0011358163319528103\n",
      "0.1349167823791504\n"
     ]
    },
    {
     "name": "stderr",
     "output_type": "stream",
     "text": [
      " 48%|████▊     | 480/1000 [03:39<05:14,  1.65it/s]"
     ]
    },
    {
     "name": "stdout",
     "output_type": "stream",
     "text": [
      "Epoch 480\n",
      "0.0010841069743037224\n",
      "0.1355952024459839\n"
     ]
    },
    {
     "name": "stderr",
     "output_type": "stream",
     "text": [
      " 49%|████▉     | 490/1000 [03:46<06:05,  1.39it/s]"
     ]
    },
    {
     "name": "stdout",
     "output_type": "stream",
     "text": [
      "Epoch 490\n",
      "0.000942956714425236\n",
      "0.1329817771911621\n"
     ]
    },
    {
     "name": "stderr",
     "output_type": "stream",
     "text": [
      " 50%|█████     | 500/1000 [03:51<04:36,  1.81it/s]"
     ]
    },
    {
     "name": "stdout",
     "output_type": "stream",
     "text": [
      "Epoch 500\n",
      "0.0008678194135427475\n",
      "0.13575370609760284\n"
     ]
    },
    {
     "name": "stderr",
     "output_type": "stream",
     "text": [
      " 51%|█████     | 510/1000 [03:55<04:01,  2.03it/s]"
     ]
    },
    {
     "name": "stdout",
     "output_type": "stream",
     "text": [
      "Epoch 510\n",
      "0.0011582148727029562\n",
      "0.1345706433057785\n"
     ]
    },
    {
     "name": "stderr",
     "output_type": "stream",
     "text": [
      " 52%|█████▏    | 520/1000 [04:02<05:16,  1.52it/s]"
     ]
    },
    {
     "name": "stdout",
     "output_type": "stream",
     "text": [
      "Epoch 520\n",
      "0.0008133637020364404\n",
      "0.13454754650592804\n"
     ]
    },
    {
     "name": "stderr",
     "output_type": "stream",
     "text": [
      " 53%|█████▎    | 530/1000 [04:09<06:08,  1.27it/s]"
     ]
    },
    {
     "name": "stdout",
     "output_type": "stream",
     "text": [
      "Epoch 530\n",
      "0.0009916876442730427\n",
      "0.1328541487455368\n"
     ]
    },
    {
     "name": "stderr",
     "output_type": "stream",
     "text": [
      " 54%|█████▍    | 540/1000 [04:15<04:10,  1.83it/s]"
     ]
    },
    {
     "name": "stdout",
     "output_type": "stream",
     "text": [
      "Epoch 540\n",
      "0.0009425137541256845\n",
      "0.13664348423480988\n"
     ]
    },
    {
     "name": "stderr",
     "output_type": "stream",
     "text": [
      " 55%|█████▌    | 550/1000 [04:21<03:27,  2.17it/s]"
     ]
    },
    {
     "name": "stdout",
     "output_type": "stream",
     "text": [
      "Epoch 550\n",
      "0.0010376586578786373\n",
      "0.13451175391674042\n"
     ]
    },
    {
     "name": "stderr",
     "output_type": "stream",
     "text": [
      " 56%|█████▌    | 560/1000 [04:26<03:28,  2.11it/s]"
     ]
    },
    {
     "name": "stdout",
     "output_type": "stream",
     "text": [
      "Epoch 560\n",
      "0.001207024441100657\n",
      "0.13278472423553467\n"
     ]
    },
    {
     "name": "stderr",
     "output_type": "stream",
     "text": [
      " 57%|█████▋    | 570/1000 [04:30<03:23,  2.11it/s]"
     ]
    },
    {
     "name": "stdout",
     "output_type": "stream",
     "text": [
      "Epoch 570\n",
      "0.000975238683167845\n",
      "0.13794486224651337\n"
     ]
    },
    {
     "name": "stderr",
     "output_type": "stream",
     "text": [
      " 58%|█████▊    | 580/1000 [04:35<03:05,  2.27it/s]"
     ]
    },
    {
     "name": "stdout",
     "output_type": "stream",
     "text": [
      "Epoch 580\n",
      "0.0012256986228749156\n",
      "0.13304822146892548\n"
     ]
    },
    {
     "name": "stderr",
     "output_type": "stream",
     "text": [
      " 59%|█████▉    | 590/1000 [04:39<02:53,  2.37it/s]"
     ]
    },
    {
     "name": "stdout",
     "output_type": "stream",
     "text": [
      "Epoch 590\n",
      "0.0008118778932839632\n",
      "0.13043563067913055\n"
     ]
    },
    {
     "name": "stderr",
     "output_type": "stream",
     "text": [
      " 60%|██████    | 600/1000 [04:46<04:28,  1.49it/s]"
     ]
    },
    {
     "name": "stdout",
     "output_type": "stream",
     "text": [
      "Epoch 600\n",
      "0.0010317908599972725\n",
      "0.129294753074646\n"
     ]
    },
    {
     "name": "stderr",
     "output_type": "stream",
     "text": [
      " 61%|██████    | 610/1000 [04:51<02:57,  2.20it/s]"
     ]
    },
    {
     "name": "stdout",
     "output_type": "stream",
     "text": [
      "Epoch 610\n",
      "0.0012311807367950678\n",
      "0.1318546086549759\n"
     ]
    },
    {
     "name": "stderr",
     "output_type": "stream",
     "text": [
      " 62%|██████▏   | 620/1000 [04:56<03:10,  1.99it/s]"
     ]
    },
    {
     "name": "stdout",
     "output_type": "stream",
     "text": [
      "Epoch 620\n",
      "0.0008483090787194669\n",
      "0.13153548538684845\n"
     ]
    },
    {
     "name": "stderr",
     "output_type": "stream",
     "text": [
      " 63%|██████▎   | 630/1000 [05:00<02:33,  2.40it/s]"
     ]
    },
    {
     "name": "stdout",
     "output_type": "stream",
     "text": [
      "Epoch 630\n",
      "0.00113803637214005\n",
      "0.13037431240081787\n"
     ]
    },
    {
     "name": "stderr",
     "output_type": "stream",
     "text": [
      " 64%|██████▍   | 640/1000 [05:04<02:39,  2.26it/s]"
     ]
    },
    {
     "name": "stdout",
     "output_type": "stream",
     "text": [
      "Epoch 640\n",
      "0.0009458510903641582\n",
      "0.12909094989299774\n"
     ]
    },
    {
     "name": "stderr",
     "output_type": "stream",
     "text": [
      " 65%|██████▌   | 650/1000 [05:08<02:31,  2.31it/s]"
     ]
    },
    {
     "name": "stdout",
     "output_type": "stream",
     "text": [
      "Epoch 650\n",
      "0.0011009654263034463\n",
      "0.13215751945972443\n"
     ]
    },
    {
     "name": "stderr",
     "output_type": "stream",
     "text": [
      " 66%|██████▌   | 660/1000 [05:13<02:30,  2.27it/s]"
     ]
    },
    {
     "name": "stdout",
     "output_type": "stream",
     "text": [
      "Epoch 660\n",
      "0.00076261319918558\n",
      "0.13176202774047852\n"
     ]
    },
    {
     "name": "stderr",
     "output_type": "stream",
     "text": [
      " 67%|██████▋   | 670/1000 [05:17<02:26,  2.25it/s]"
     ]
    },
    {
     "name": "stdout",
     "output_type": "stream",
     "text": [
      "Epoch 670\n",
      "0.0007101005176082253\n",
      "0.13075201213359833\n"
     ]
    },
    {
     "name": "stderr",
     "output_type": "stream",
     "text": [
      " 68%|██████▊   | 680/1000 [05:22<02:20,  2.29it/s]"
     ]
    },
    {
     "name": "stdout",
     "output_type": "stream",
     "text": [
      "Epoch 680\n",
      "0.0008958641556091607\n",
      "0.12934450805187225\n"
     ]
    },
    {
     "name": "stderr",
     "output_type": "stream",
     "text": [
      " 69%|██████▉   | 690/1000 [05:26<02:10,  2.38it/s]"
     ]
    },
    {
     "name": "stdout",
     "output_type": "stream",
     "text": [
      "Epoch 690\n",
      "0.0007312192465178668\n",
      "0.12771479785442352\n"
     ]
    },
    {
     "name": "stderr",
     "output_type": "stream",
     "text": [
      " 70%|███████   | 700/1000 [05:30<02:17,  2.19it/s]"
     ]
    },
    {
     "name": "stdout",
     "output_type": "stream",
     "text": [
      "Epoch 700\n",
      "0.0008618539432063699\n",
      "0.12857282161712646\n"
     ]
    },
    {
     "name": "stderr",
     "output_type": "stream",
     "text": [
      " 71%|███████   | 710/1000 [05:35<01:58,  2.45it/s]"
     ]
    },
    {
     "name": "stdout",
     "output_type": "stream",
     "text": [
      "Epoch 710\n",
      "0.0012959397863596678\n",
      "0.1288105696439743\n"
     ]
    },
    {
     "name": "stderr",
     "output_type": "stream",
     "text": [
      " 72%|███████▏  | 720/1000 [05:39<02:12,  2.11it/s]"
     ]
    },
    {
     "name": "stdout",
     "output_type": "stream",
     "text": [
      "Epoch 720\n",
      "0.0005150919896550477\n",
      "0.12668950855731964\n"
     ]
    },
    {
     "name": "stderr",
     "output_type": "stream",
     "text": [
      " 73%|███████▎  | 730/1000 [05:44<02:02,  2.21it/s]"
     ]
    },
    {
     "name": "stdout",
     "output_type": "stream",
     "text": [
      "Epoch 730\n",
      "0.0006913390243425965\n",
      "0.12741975486278534\n"
     ]
    },
    {
     "name": "stderr",
     "output_type": "stream",
     "text": [
      " 74%|███████▍  | 740/1000 [05:51<02:37,  1.65it/s]"
     ]
    },
    {
     "name": "stdout",
     "output_type": "stream",
     "text": [
      "Epoch 740\n",
      "0.0006642512744292617\n",
      "0.1272885799407959\n"
     ]
    },
    {
     "name": "stderr",
     "output_type": "stream",
     "text": [
      " 75%|███████▌  | 750/1000 [05:55<01:55,  2.16it/s]"
     ]
    },
    {
     "name": "stdout",
     "output_type": "stream",
     "text": [
      "Epoch 750\n",
      "0.0008480090764351189\n",
      "0.12849803268909454\n"
     ]
    },
    {
     "name": "stderr",
     "output_type": "stream",
     "text": [
      " 76%|███████▌  | 760/1000 [06:00<01:48,  2.21it/s]"
     ]
    },
    {
     "name": "stdout",
     "output_type": "stream",
     "text": [
      "Epoch 760\n",
      "0.000649048131890595\n",
      "0.1288466453552246\n"
     ]
    },
    {
     "name": "stderr",
     "output_type": "stream",
     "text": [
      " 77%|███████▋  | 770/1000 [06:04<02:03,  1.86it/s]"
     ]
    },
    {
     "name": "stdout",
     "output_type": "stream",
     "text": [
      "Epoch 770\n",
      "0.0008426222484558821\n",
      "0.1291099339723587\n"
     ]
    },
    {
     "name": "stderr",
     "output_type": "stream",
     "text": [
      " 78%|███████▊  | 780/1000 [06:09<01:59,  1.84it/s]"
     ]
    },
    {
     "name": "stdout",
     "output_type": "stream",
     "text": [
      "Epoch 780\n",
      "0.0007075975299812853\n",
      "0.12384732812643051\n"
     ]
    },
    {
     "name": "stderr",
     "output_type": "stream",
     "text": [
      " 79%|███████▉  | 790/1000 [06:17<01:59,  1.76it/s]"
     ]
    },
    {
     "name": "stdout",
     "output_type": "stream",
     "text": [
      "Epoch 790\n",
      "0.0006669427384622395\n",
      "0.12649638950824738\n"
     ]
    },
    {
     "name": "stderr",
     "output_type": "stream",
     "text": [
      " 80%|████████  | 800/1000 [06:22<01:34,  2.12it/s]"
     ]
    },
    {
     "name": "stdout",
     "output_type": "stream",
     "text": [
      "Epoch 800\n",
      "0.0006814754451625049\n",
      "0.12948226928710938\n"
     ]
    },
    {
     "name": "stderr",
     "output_type": "stream",
     "text": [
      " 81%|████████  | 810/1000 [06:26<01:28,  2.16it/s]"
     ]
    },
    {
     "name": "stdout",
     "output_type": "stream",
     "text": [
      "Epoch 810\n",
      "0.0013091751607134938\n",
      "0.12634634971618652\n"
     ]
    },
    {
     "name": "stderr",
     "output_type": "stream",
     "text": [
      " 82%|████████▏ | 820/1000 [06:31<01:20,  2.23it/s]"
     ]
    },
    {
     "name": "stdout",
     "output_type": "stream",
     "text": [
      "Epoch 820\n",
      "0.0005819726502522826\n",
      "0.12830011546611786\n"
     ]
    },
    {
     "name": "stderr",
     "output_type": "stream",
     "text": [
      " 83%|████████▎ | 830/1000 [06:35<01:20,  2.10it/s]"
     ]
    },
    {
     "name": "stdout",
     "output_type": "stream",
     "text": [
      "Epoch 830\n",
      "0.0006467853672802448\n",
      "0.1249823197722435\n"
     ]
    },
    {
     "name": "stderr",
     "output_type": "stream",
     "text": [
      " 84%|████████▍ | 840/1000 [06:40<01:08,  2.33it/s]"
     ]
    },
    {
     "name": "stdout",
     "output_type": "stream",
     "text": [
      "Epoch 840\n",
      "0.0008268219535239041\n",
      "0.12792189419269562\n"
     ]
    },
    {
     "name": "stderr",
     "output_type": "stream",
     "text": [
      " 85%|████████▌ | 850/1000 [06:44<01:08,  2.19it/s]"
     ]
    },
    {
     "name": "stdout",
     "output_type": "stream",
     "text": [
      "Epoch 850\n",
      "0.0006302662659436464\n",
      "0.12633347511291504\n"
     ]
    },
    {
     "name": "stderr",
     "output_type": "stream",
     "text": [
      " 86%|████████▌ | 860/1000 [06:48<01:00,  2.31it/s]"
     ]
    },
    {
     "name": "stdout",
     "output_type": "stream",
     "text": [
      "Epoch 860\n",
      "0.0005542597500607371\n",
      "0.12682370841503143\n"
     ]
    },
    {
     "name": "stderr",
     "output_type": "stream",
     "text": [
      " 87%|████████▋ | 870/1000 [06:53<00:54,  2.37it/s]"
     ]
    },
    {
     "name": "stdout",
     "output_type": "stream",
     "text": [
      "Epoch 870\n",
      "0.0007772812969051301\n",
      "0.12997539341449738\n"
     ]
    },
    {
     "name": "stderr",
     "output_type": "stream",
     "text": [
      " 88%|████████▊ | 880/1000 [06:57<00:50,  2.36it/s]"
     ]
    },
    {
     "name": "stdout",
     "output_type": "stream",
     "text": [
      "Epoch 880\n",
      "0.0007201972184702754\n",
      "0.12491603940725327\n"
     ]
    },
    {
     "name": "stderr",
     "output_type": "stream",
     "text": [
      " 89%|████████▉ | 890/1000 [07:01<00:48,  2.25it/s]"
     ]
    },
    {
     "name": "stdout",
     "output_type": "stream",
     "text": [
      "Epoch 890\n",
      "0.0007190449396148324\n",
      "0.12706701457500458\n"
     ]
    },
    {
     "name": "stderr",
     "output_type": "stream",
     "text": [
      " 90%|█████████ | 900/1000 [07:07<00:47,  2.12it/s]"
     ]
    },
    {
     "name": "stdout",
     "output_type": "stream",
     "text": [
      "Epoch 900\n",
      "0.0006511821411550045\n",
      "0.1261018067598343\n"
     ]
    },
    {
     "name": "stderr",
     "output_type": "stream",
     "text": [
      " 91%|█████████ | 910/1000 [07:11<00:40,  2.21it/s]"
     ]
    },
    {
     "name": "stdout",
     "output_type": "stream",
     "text": [
      "Epoch 910\n",
      "0.0006655298639088869\n",
      "0.1283632069826126\n"
     ]
    },
    {
     "name": "stderr",
     "output_type": "stream",
     "text": [
      " 92%|█████████▏| 920/1000 [07:16<00:35,  2.24it/s]"
     ]
    },
    {
     "name": "stdout",
     "output_type": "stream",
     "text": [
      "Epoch 920\n",
      "0.0005868306034244597\n",
      "0.12547314167022705\n"
     ]
    },
    {
     "name": "stderr",
     "output_type": "stream",
     "text": [
      " 93%|█████████▎| 930/1000 [07:20<00:28,  2.47it/s]"
     ]
    },
    {
     "name": "stdout",
     "output_type": "stream",
     "text": [
      "Epoch 930\n",
      "0.0004999513039365411\n",
      "0.12502527236938477\n"
     ]
    },
    {
     "name": "stderr",
     "output_type": "stream",
     "text": [
      " 94%|█████████▍| 940/1000 [07:24<00:23,  2.57it/s]"
     ]
    },
    {
     "name": "stdout",
     "output_type": "stream",
     "text": [
      "Epoch 940\n",
      "0.0006127278320491314\n",
      "0.1255689114332199\n"
     ]
    },
    {
     "name": "stderr",
     "output_type": "stream",
     "text": [
      " 95%|█████████▌| 950/1000 [07:28<00:20,  2.43it/s]"
     ]
    },
    {
     "name": "stdout",
     "output_type": "stream",
     "text": [
      "Epoch 950\n",
      "0.0005416191415861249\n",
      "0.1245783194899559\n"
     ]
    },
    {
     "name": "stderr",
     "output_type": "stream",
     "text": [
      " 96%|█████████▌| 960/1000 [07:33<00:17,  2.25it/s]"
     ]
    },
    {
     "name": "stdout",
     "output_type": "stream",
     "text": [
      "Epoch 960\n",
      "0.0005655745044350624\n",
      "0.12428327649831772\n"
     ]
    },
    {
     "name": "stderr",
     "output_type": "stream",
     "text": [
      " 97%|█████████▋| 970/1000 [07:37<00:12,  2.38it/s]"
     ]
    },
    {
     "name": "stdout",
     "output_type": "stream",
     "text": [
      "Epoch 970\n",
      "0.0006407658220268786\n",
      "0.12423809617757797\n"
     ]
    },
    {
     "name": "stderr",
     "output_type": "stream",
     "text": [
      " 98%|█████████▊| 980/1000 [07:41<00:08,  2.37it/s]"
     ]
    },
    {
     "name": "stdout",
     "output_type": "stream",
     "text": [
      "Epoch 980\n",
      "0.0004487353144213557\n",
      "0.12470599263906479\n"
     ]
    },
    {
     "name": "stderr",
     "output_type": "stream",
     "text": [
      " 99%|█████████▉| 990/1000 [07:45<00:04,  2.21it/s]"
     ]
    },
    {
     "name": "stdout",
     "output_type": "stream",
     "text": [
      "Epoch 990\n",
      "0.0005882430705241859\n",
      "0.12662164866924286\n"
     ]
    },
    {
     "name": "stderr",
     "output_type": "stream",
     "text": [
      "100%|██████████| 1000/1000 [07:50<00:00,  2.13it/s]"
     ]
    },
    {
     "name": "stdout",
     "output_type": "stream",
     "text": [
      "Epoch 1000\n",
      "0.0006278229993768036\n",
      "0.12616872787475586\n",
      "Best epoch = 933\n",
      "Best loss = 0.012708456255495548\n",
      "Fit loss = 0.0004563481779769063\n",
      "Fit losses = {}\n"
     ]
    },
    {
     "name": "stderr",
     "output_type": "stream",
     "text": [
      "\n"
     ]
    },
    {
     "ename": "NameError",
     "evalue": "name 'fit_losses' is not defined",
     "output_type": "error",
     "traceback": [
      "\u001b[0;31m---------------------------------------------------------------------------\u001b[0m",
      "\u001b[0;31mNameError\u001b[0m                                 Traceback (most recent call last)",
      "\u001b[0;32m<ipython-input-3-d3de04c03279>\u001b[0m in \u001b[0;36m<module>\u001b[0;34m\u001b[0m\n\u001b[1;32m    243\u001b[0m \u001b[0;32mfor\u001b[0m \u001b[0mlamb\u001b[0m \u001b[0;32min\u001b[0m \u001b[0mlambs\u001b[0m\u001b[0;34m:\u001b[0m\u001b[0;34m\u001b[0m\u001b[0;34m\u001b[0m\u001b[0m\n\u001b[1;32m    244\u001b[0m     \u001b[0mprint\u001b[0m\u001b[0;34m(\u001b[0m\u001b[0;34m\"lamb={}\"\u001b[0m\u001b[0;34m.\u001b[0m\u001b[0mformat\u001b[0m\u001b[0;34m(\u001b[0m\u001b[0mlamb\u001b[0m\u001b[0;34m)\u001b[0m\u001b[0;34m)\u001b[0m\u001b[0;34m\u001b[0m\u001b[0;34m\u001b[0m\u001b[0m\n\u001b[0;32m--> 245\u001b[0;31m     \u001b[0mloss\u001b[0m\u001b[0;34m,\u001b[0m \u001b[0mfit_best\u001b[0m\u001b[0;34m,\u001b[0m \u001b[0mreg_best\u001b[0m \u001b[0;34m=\u001b[0m \u001b[0mtrain\u001b[0m\u001b[0;34m(\u001b[0m\u001b[0mnets\u001b[0m\u001b[0;34m,\u001b[0m \u001b[0mf_z\u001b[0m\u001b[0;34m,\u001b[0m \u001b[0mz\u001b[0m\u001b[0;34m,\u001b[0m \u001b[0mlr\u001b[0m\u001b[0;34m=\u001b[0m\u001b[0;36m1e-3\u001b[0m\u001b[0;34m,\u001b[0m \u001b[0mepochs\u001b[0m\u001b[0;34m=\u001b[0m\u001b[0;36m1000\u001b[0m\u001b[0;34m)\u001b[0m\u001b[0;34m\u001b[0m\u001b[0;34m\u001b[0m\u001b[0m\n\u001b[0m\u001b[1;32m    246\u001b[0m     \u001b[0mbest_losses\u001b[0m\u001b[0;34m.\u001b[0m\u001b[0mappend\u001b[0m\u001b[0;34m(\u001b[0m\u001b[0mfit_best\u001b[0m\u001b[0;34m)\u001b[0m\u001b[0;34m\u001b[0m\u001b[0;34m\u001b[0m\u001b[0m\n\u001b[1;32m    247\u001b[0m     \u001b[0mbest_regs\u001b[0m\u001b[0;34m.\u001b[0m\u001b[0mappend\u001b[0m\u001b[0;34m(\u001b[0m\u001b[0mreg_best\u001b[0m\u001b[0;34m)\u001b[0m\u001b[0;34m\u001b[0m\u001b[0;34m\u001b[0m\u001b[0m\n",
      "\u001b[0;32m<ipython-input-3-d3de04c03279>\u001b[0m in \u001b[0;36mtrain\u001b[0;34m(nets, f_z, z, lr, epochs, bs, es_delta, epoch_loss, max_loss_divergence, weight_decay, weight_decay_decay, model)\u001b[0m\n\u001b[1;32m    230\u001b[0m     \u001b[0mprint\u001b[0m\u001b[0;34m(\u001b[0m\u001b[0;34m\"Fit loss = {}\"\u001b[0m\u001b[0;34m.\u001b[0m\u001b[0mformat\u001b[0m\u001b[0;34m(\u001b[0m\u001b[0mfit_loss_best\u001b[0m\u001b[0;34m)\u001b[0m\u001b[0;34m)\u001b[0m\u001b[0;34m\u001b[0m\u001b[0;34m\u001b[0m\u001b[0m\n\u001b[1;32m    231\u001b[0m     \u001b[0mprint\u001b[0m\u001b[0;34m(\u001b[0m\u001b[0;34m\"Fit losses = {}\"\u001b[0m\u001b[0;34m)\u001b[0m\u001b[0;34m\u001b[0m\u001b[0;34m\u001b[0m\u001b[0m\n\u001b[0;32m--> 232\u001b[0;31m     \u001b[0mprint\u001b[0m\u001b[0;34m(\u001b[0m\u001b[0mfit_losses\u001b[0m\u001b[0;34m)\u001b[0m\u001b[0;34m\u001b[0m\u001b[0;34m\u001b[0m\u001b[0m\n\u001b[0m\u001b[1;32m    233\u001b[0m     \u001b[0mdf\u001b[0m \u001b[0;34m=\u001b[0m \u001b[0mpo\u001b[0m\u001b[0;34m.\u001b[0m\u001b[0mDataFrame\u001b[0m\u001b[0;34m(\u001b[0m\u001b[0;34m)\u001b[0m\u001b[0;34m\u001b[0m\u001b[0;34m\u001b[0m\u001b[0m\n\u001b[1;32m    234\u001b[0m     \u001b[0mdf\u001b[0m\u001b[0;34m[\u001b[0m\u001b[0;34m'losses'\u001b[0m\u001b[0;34m]\u001b[0m \u001b[0;34m=\u001b[0m \u001b[0mlosses\u001b[0m\u001b[0;34m\u001b[0m\u001b[0;34m\u001b[0m\u001b[0m\n",
      "\u001b[0;31mNameError\u001b[0m: name 'fit_losses' is not defined"
     ]
    },
    {
     "data": {
      "image/png": "[encoded data removed]",
      "text/plain": [
       "<Figure size 432x288 with 1 Axes>"
      ]
     },
     "metadata": {
      "needs_background": "light"
     },
     "output_type": "display_data"
    }
   ],
   "source": [
    "import os\n",
    "import math\n",
    "import numpy as np\n",
    "import pandas as po\n",
    "import matplotlib.pyplot as plt\n",
    "\n",
    "import torch\n",
    "from torch import nn\n",
    "import torch.optim as optim\n",
    "from torch.autograd import Variable\n",
    "\n",
    "from sklearn.metrics import r2_score\n",
    "from sklearn.metrics import accuracy_score\n",
    "from sklearn.model_selection import train_test_split\n",
    "from tqdm import tqdm\n",
    "\n",
    "#lambs = np.flip([0.01,0.02,0.05,0.1,0.2,0.5,1.0,2.0,5.0,10.0,20.0,50.0,100.0])\n",
    "#lambs = [1e-4,2e-4,5e-4,1e-3,2e-3,5e-3,0.01,0.02,0.05,0.1,0.2,0.5,1.0,2.0,5.0,10.0,20.0,50.0,100.0,200,500,1000]\n",
    "lambs = [0.1]\n",
    "#lambs = np.array([0.01,0.02,0.05,0.1,0.2,0.5,1.0,2.0,5.0,10.0])\n",
    "wx = 1\n",
    "wy = 2\n",
    "folder = \"2D_{}_{}\".format(wx,wy)\n",
    "\n",
    "seed = 0\n",
    "torch.manual_seed(seed)\n",
    "np.random.seed(seed)\n",
    "\n",
    "best_losses = []\n",
    "best_regs = []\n",
    "\n",
    "num_pts = 1000\n",
    "#gamma = 10\n",
    "#lamb = 0.02\n",
    "\n",
    "data = po.DataFrame()\n",
    "data['x'] = 4*np.random.rand(num_pts,)-2\n",
    "data['px'] = 4*np.random.rand(num_pts,)-2\n",
    "\n",
    "data['y'] = 4*np.random.rand(num_pts,)-2\n",
    "data['py'] = 4*np.random.rand(num_pts,)-2\n",
    "\n",
    "\n",
    "data['dx/dt'] = data['px']\n",
    "data['dpx/dt'] = -wx**2*data['x']\n",
    "\n",
    "data['dy/dt'] = data['py']\n",
    "data['dpy/dt'] = -wy**2*data['y']\n",
    "\n",
    "\n",
    "f_z = torch.tensor(data[['dx/dt', 'dpx/dt', 'dy/dt', 'dpy/dt']].values, requires_grad=True).float()\n",
    "z = torch.tensor(data[['x', 'px', 'y', 'py']].values, requires_grad=True).float()\n",
    "\n",
    "\n",
    "# initialize network\n",
    "num_model = 4\n",
    "nets = []\n",
    "\n",
    "class Hnet(nn.Module):\n",
    "    def __init__(self, z_dim=2, w=400):\n",
    "        super(Hnet, self).__init__()\n",
    "        self.z_dim = z_dim\n",
    "        input_dim = z_dim\n",
    "\n",
    "        self.h_lin_1 = nn.Linear(input_dim, w) #\n",
    "        self.h_lin_2 = nn.Linear(w, w) #\n",
    "        self.h_lin_3 = nn.Linear(w, 1) #\n",
    "        self.h_relu = nn.ReLU()\n",
    "        self.h_tanh = nn.Tanh()\n",
    "        self.h_silu = nn.SiLU()\n",
    "\n",
    "    def h_z_basic(self, z):\n",
    "        out = self.h_lin_1(z)\n",
    "        out = self.h_silu(out)\n",
    "        out = self.h_lin_2(out)\n",
    "        out = self.h_silu(out)\n",
    "        out = self.h_lin_3(out)\n",
    "        return out\n",
    "\n",
    "    def h_z(self, z):\n",
    "        out = self.h_z_basic(z)\n",
    "        return out\n",
    "\n",
    "    def forward(self, z, verbose=False):\n",
    "        bs = z.shape[0]\n",
    "\n",
    "        h = self.h_z(z)\n",
    "        dh = torch.autograd.grad(h, z, torch.ones_like(h), create_graph=True, retain_graph=True)[0]\n",
    "        bs = z.shape[0]\n",
    "        dh = dh.reshape(bs,-1)\n",
    "        return dh\n",
    "\n",
    "\n",
    "def train(nets, f_z, z,\n",
    "            lr=2e-2,\n",
    "            epochs = 2000, \n",
    "            bs = 100,\n",
    "            es_delta = 0.000001, \n",
    "            epoch_loss = 1e9,\n",
    "            max_loss_divergence = 0.1,\n",
    "            weight_decay=0, \n",
    "            weight_decay_decay=False,model=None):\n",
    "\n",
    "\n",
    "    num_model = len(nets)\n",
    "\n",
    "    z_dim = z.shape[1]\n",
    "    entropy_dim = np.minimum(num_model, z_dim)\n",
    "    parameters = list([])\n",
    "    for i in range(num_model):\n",
    "        parameters = list(parameters) + list(nets[i].parameters())\n",
    "    optimizer = optim.Adam(parameters, lr=lr, weight_decay=weight_decay, eps=1e-8)\n",
    "    #optimizer = optim.SGD(parameters, lr=lr, weight_decay=weight_decay)\n",
    "\n",
    "    for k in range(num_model):\n",
    "        nets[k].train()\n",
    "    losses = []\n",
    "    losses_fit = []\n",
    "    losses_reg = []\n",
    "    lamb_H = 0.00\n",
    "    lamb_dH = lamb\n",
    "    loss_pow = 2\n",
    "\n",
    "\n",
    "    for epoch in tqdm(range(epochs)):\n",
    "        for i in range((len(f_z) - 1) // bs + 1):\n",
    "            choices = np.random.choice(len(f_z), bs, replace=False)\n",
    "            #start_i = i * bs\n",
    "            #end_i = start_i + bs\n",
    "            xb = z[choices, :]\n",
    "            fitloss = 0.\n",
    "            fitlosses = []\n",
    "            yb = f_z[choices, :]\n",
    "            yb = yb.reshape(bs,-1)\n",
    "            yb_norm = yb/torch.linalg.norm(yb, dim=1, keepdim=True)\n",
    "            #print(\"yb\", yb_norm.shape)\n",
    "            for k in range(num_model):\n",
    "                pred = nets[k](xb)\n",
    "                #print(\"pred\", pred.shape)\n",
    "                pred_norm = pred/torch.linalg.norm(pred, dim=1, keepdim=True)\n",
    "                fit_orth = torch.matmul(yb_norm.unsqueeze(dim=1), pred_norm.unsqueeze(dim=2))\n",
    "                #print(fit_orth.shape)\n",
    "                fitloss_ =  torch.mean(torch.abs(fit_orth)**loss_pow)\n",
    "                #fitloss_each.append(fitloss_.detach().numpy())\n",
    "                fitloss = fitloss + fitloss_\n",
    "                fitlosses.append(fitloss_.item())\n",
    "                H_ = nets[k].h_z(xb)\n",
    "                dhi = pred_norm\n",
    "\n",
    "                if k == 0:\n",
    "                    H = H_\n",
    "                    dH = dhi.unsqueeze(dim=0)\n",
    "\n",
    "                else:\n",
    "                    H = torch.cat((H,H_), dim=1)\n",
    "                    dH = torch.cat([dH,dhi.unsqueeze(dim=0)])\n",
    "\n",
    "            fitloss = fitloss/num_model\n",
    "            # correlation loss\n",
    "            H = torch.transpose(H,0,1)\n",
    "            # dH.shape = (bs, num_model, z_dim)\n",
    "            dH = torch.transpose(dH,0,1)\n",
    "\n",
    "            # SVD dH\n",
    "            u, s, v = torch.svd(dH)\n",
    "            exp_ratio = s**2/torch.sum(s**2, dim=1,keepdim=True)\n",
    "            exp_av = torch.mean(exp_ratio,dim=0)\n",
    "\n",
    "            # H regularization\n",
    "            corr_mat = torch.corrcoef(H)\n",
    "            if num_model == 1:\n",
    "                reg_H = torch.tensor(0., dtype=torch.float)\n",
    "            else:\n",
    "                reg_H = (torch.sum(corr_mat**loss_pow)-num_model)/(num_model*(num_model-1))\n",
    "\n",
    "            orth_mat = torch.mean(torch.abs(torch.matmul(dH, torch.transpose(dH,1,2)))**loss_pow, dim=0)\n",
    "            #print(orth_mat)\n",
    "            if num_model == 1:\n",
    "                reg_dH = torch.tensor(0., dtype=torch.float)\n",
    "            else:\n",
    "                reg_dH = (torch.sum(orth_mat)-num_model)/(num_model*(num_model-1))\n",
    "\n",
    "            loss = fitloss + lamb_H*reg_H + lamb_dH*reg_dH\n",
    "\n",
    "            loss.backward()\n",
    "            optimizer.step()   \n",
    "\n",
    "            optimizer.zero_grad()\n",
    "\n",
    "            losses.append(loss.item())\n",
    "            losses_fit.append(fitloss.item())\n",
    "            losses_reg.append(reg_dH.item())\n",
    "            #print(loss.item(), fitloss.item(), reg_dH.item())\n",
    "\n",
    "        # Best epoch loss (save best only)\n",
    "        if (loss<epoch_loss):\n",
    "            epoch_loss = loss\n",
    "            epoch_best = epoch\n",
    "            fit_loss_best = fitloss\n",
    "            fit_losses_best = fitlosses\n",
    "            reg_loss_best = reg_dH\n",
    "            #print(\"Saving model at epoch {}, current best epoch loss = {}\".format(epoch, epoch_loss))\n",
    "            for k in range(num_model):\n",
    "                torch.save(nets[k].state_dict(), \"./results/\"+folder+\"/{}.pt\".format(k))\n",
    "            np.save(\"./results/\"+folder+\"/fit_loss.npy\", fitlosses)\n",
    "            np.save(\"./results/\"+folder+\"/dH_explained.npy\", exp_av.detach().numpy())\n",
    "\n",
    "        # Early Stopping\n",
    "        #if ((loss<es_delta) or abs(epoch_loss-loss)>max_loss_divergence):\n",
    "        #    break\n",
    "\n",
    "        # Print loss\n",
    "        if ((epoch+1)%10==0):\n",
    "            print(\"Epoch {}\".format(epoch+1))\n",
    "            print(fitloss.item())\n",
    "            #print(fitlosses)\n",
    "            #print(corr_mat)\n",
    "            #print(reg_H.item())\n",
    "            #print(orth_mat)\n",
    "            print(reg_dH.item())\n",
    "            #print(exp_av)\n",
    "\n",
    "    plt.plot(losses)\n",
    "    plt.plot(losses_fit)\n",
    "    plt.plot(losses_reg)\n",
    "    plt.yscale('log')\n",
    "\n",
    "    print(\"Best epoch = {}\".format(epoch_best))\n",
    "    print(\"Best loss = {}\".format(epoch_loss))\n",
    "    print(\"Fit loss = {}\".format(fit_loss_best))\n",
    "    print(\"Fit losses = {}\")\n",
    "    print(fit_losses)\n",
    "    df = po.DataFrame()\n",
    "    df['losses'] = losses\n",
    "\n",
    "    return losses, fit_loss_best.detach().numpy(), reg_loss_best.detach().numpy()\n",
    "\n",
    "\n",
    "for i in range(num_model):\n",
    "    nets.append(Hnet(z_dim=4, w=400))\n",
    "\n",
    "\n",
    "for lamb in lambs:\n",
    "    print(\"lamb={}\".format(lamb))\n",
    "    loss, fit_best, reg_best = train(nets, f_z, z, lr=1e-3, epochs=1000) \n",
    "    best_losses.append(fit_best)\n",
    "    best_regs.append(reg_best)"
   ]
  },
  {
   "cell_type": "code",
   "execution_count": 30,
   "metadata": {},
   "outputs": [
    {
     "name": "stderr",
     "output_type": "stream",
     "text": [
      "/home/luke/anaconda3/envs/zimingenv/lib/python3.6/site-packages/ipykernel_launcher.py:7: UserWarning: Attempted to set non-positive bottom ylim on a log-scaled axis.\n",
      "Invalid limit will be ignored.\n",
      "  import sys\n"
     ]
    },
    {
     "data": {
      "text/plain": [
       "(5.757693509720421e-08, 1.5)"
      ]
     },
     "execution_count": 30,
     "metadata": {},
     "output_type": "execute_result"
    },
    {
     "data": {
      "image/png": "[encoded data removed]",
      "text/plain": [
       "<Figure size 432x288 with 1 Axes>"
      ]
     },
     "metadata": {
      "needs_background": "light"
     },
     "output_type": "display_data"
    }
   ],
   "source": [
    "plt.plot(lambs, best_losses, marker=\"o\")\n",
    "plt.plot(lambs, best_regs, marker=\"o\")\n",
    "plt.xscale('log')\n",
    "plt.yscale('log')\n",
    "plt.xlabel(r'$\\lambda$',fontsize=15)\n",
    "plt.ylabel('MSE Loss', fontsize=15)\n",
    "plt.ylim(-0.01,1.5)"
   ]
  },
  {
   "cell_type": "code",
   "execution_count": 31,
   "metadata": {},
   "outputs": [],
   "source": [
    "np.save('./results/lambda_search_2dho_1.npy', np.array([lambs, best_losses, best_regs]))"
   ]
  },
  {
   "cell_type": "code",
   "execution_count": 36,
   "metadata": {},
   "outputs": [
    {
     "data": {
      "image/png": "[encoded data removed]",
      "text/plain": [
       "<Figure size 864x288 with 2 Axes>"
      ]
     },
     "metadata": {
      "needs_background": "light"
     },
     "output_type": "display_data"
    }
   ],
   "source": [
    "plt.figure(figsize=(12,4))\n",
    "\n",
    "plt.subplot(1,2,1)\n",
    "\n",
    "data = np.load('./results/lambda_search_2dho_1.npy')\n",
    "lambs = data[0]\n",
    "best_losses = data[1]\n",
    "best_regs = data[2]\n",
    "\n",
    "plt.plot(lambs, best_losses, marker=\"o\")\n",
    "plt.plot(lambs, best_regs, marker=\"o\")\n",
    "plt.xscale('log')\n",
    "#plt.yscale('log')\n",
    "plt.xlabel(r'$\\lambda$',fontsize=15)\n",
    "plt.ylabel('Loss', fontsize=15)\n",
    "plt.legend([r\"$\\ell_1$\", r\"$\\ell_2$\"], fontsize=15, loc=\"upper right\")\n",
    "plt.ylim(-0.01,0.4)\n",
    "plt.title(r\"$(\\omega_x,\\omega_y)=(1,1)$\", fontsize=15)\n",
    "\n",
    "\n",
    "plt.subplot(1,2,2)\n",
    "\n",
    "data = np.load('./results/lambda_search_2dho_sqrt2.npy')\n",
    "lambs = data[0]\n",
    "best_losses = data[1]\n",
    "best_regs = data[2]\n",
    "\n",
    "plt.plot(lambs, best_losses, marker=\"o\")\n",
    "plt.plot(lambs, best_regs, marker=\"o\")\n",
    "plt.xscale('log')\n",
    "#plt.yscale('log')\n",
    "plt.xlabel(r'$\\lambda$',fontsize=15)\n",
    "plt.ylabel('Loss', fontsize=15)\n",
    "#plt.legend([r\"$\\ell_1$\", r\"$\\ell_2$\"], fontsize=15, loc=\"upper right\")\n",
    "plt.ylim(-0.01,0.4)\n",
    "plt.title(r\"$(\\omega_x,\\omega_y)=(1,\\sqrt{2})$\", fontsize=15)\n",
    "plt.savefig('./2d_ho_lamb_pt.pdf', bbox_inches=\"tight\")"
   ]
  },
  {
   "cell_type": "code",
   "execution_count": null,
   "metadata": {},
   "outputs": [],
   "source": []
  }
 ],
 "metadata": {
  "kernelspec": {
   "display_name": "Python 3",
   "language": "python",
   "name": "python3"
  },
  "language_info": {
   "codemirror_mode": {
    "name": "ipython",
    "version": 3
   },
   "file_extension": ".py",
   "mimetype": "text/x-python",
   "name": "python",
   "nbconvert_exporter": "python",
   "pygments_lexer": "ipython3",
   "version": "3.6.10"
  }
 },
 "nbformat": 4,
 "nbformat_minor": 4
}
