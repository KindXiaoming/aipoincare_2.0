{
 "cells": [
  {
   "cell_type": "code",
   "execution_count": null,
   "metadata": {},
   "outputs": [
    {
     "name": "stderr",
     "output_type": "stream",
     "text": [
      "\n",
      "  0%|          | 0/1000 [00:00<?, ?it/s]\u001b[A"
     ]
    },
    {
     "name": "stdout",
     "output_type": "stream",
     "text": [
      "lamb=0.1\n"
     ]
    },
    {
     "name": "stderr",
     "output_type": "stream",
     "text": [
      "\n",
      "  0%|          | 1/1000 [00:00<04:52,  3.42it/s]\u001b[A\n",
      "  0%|          | 2/1000 [00:00<05:06,  3.26it/s]\u001b[A\n",
      "  0%|          | 3/1000 [00:01<05:27,  3.04it/s]\u001b[A\n",
      "  0%|          | 4/1000 [00:01<05:33,  2.98it/s]\u001b[A\n",
      "  0%|          | 5/1000 [00:01<05:48,  2.86it/s]\u001b[A\n",
      "  1%|          | 6/1000 [00:02<05:26,  3.04it/s]\u001b[A\n",
      "  1%|          | 7/1000 [00:02<05:06,  3.24it/s]\u001b[A\n",
      "  1%|          | 8/1000 [00:02<04:46,  3.46it/s]\u001b[A\n",
      "  1%|          | 9/1000 [00:02<04:24,  3.74it/s]\u001b[A\n",
      "  1%|          | 10/1000 [00:03<04:24,  3.74it/s]\u001b[A"
     ]
    },
    {
     "name": "stdout",
     "output_type": "stream",
     "text": [
      "Epoch 10\n",
      "0.0009428251069039106\n",
      "0.21840453147888184\n"
     ]
    },
    {
     "name": "stderr",
     "output_type": "stream",
     "text": [
      "\n",
      "  1%|          | 11/1000 [00:03<04:26,  3.72it/s]\u001b[A\n",
      "  1%|          | 12/1000 [00:03<04:15,  3.87it/s]\u001b[A\n",
      "  1%|▏         | 13/1000 [00:03<04:19,  3.81it/s]\u001b[A\n",
      "  1%|▏         | 14/1000 [00:04<04:10,  3.93it/s]\u001b[A\n",
      "  2%|▏         | 15/1000 [00:04<03:59,  4.11it/s]\u001b[A\n",
      "  2%|▏         | 16/1000 [00:04<03:52,  4.23it/s]\u001b[A\n",
      "  2%|▏         | 17/1000 [00:04<03:48,  4.31it/s]\u001b[A\n",
      "  2%|▏         | 18/1000 [00:04<03:43,  4.40it/s]\u001b[A\n",
      "  2%|▏         | 19/1000 [00:05<03:44,  4.37it/s]\u001b[A\n",
      "  2%|▏         | 20/1000 [00:05<03:43,  4.38it/s]\u001b[A"
     ]
    },
    {
     "name": "stdout",
     "output_type": "stream",
     "text": [
      "Epoch 20\n",
      "0.00017596942780073732\n",
      "0.13925480842590332\n"
     ]
    },
    {
     "name": "stderr",
     "output_type": "stream",
     "text": [
      "\n",
      "  2%|▏         | 21/1000 [00:05<03:40,  4.43it/s]\u001b[A\n",
      "  2%|▏         | 22/1000 [00:05<03:40,  4.44it/s]\u001b[A\n",
      "  2%|▏         | 23/1000 [00:06<03:40,  4.44it/s]\u001b[A\n",
      "  2%|▏         | 24/1000 [00:06<03:36,  4.51it/s]\u001b[A\n",
      "  2%|▎         | 25/1000 [00:06<03:39,  4.44it/s]\u001b[A\n",
      "  3%|▎         | 26/1000 [00:06<03:37,  4.47it/s]\u001b[A\n",
      "  3%|▎         | 27/1000 [00:06<03:44,  4.34it/s]\u001b[A\n",
      "  3%|▎         | 28/1000 [00:07<03:43,  4.34it/s]\u001b[A\n",
      "  3%|▎         | 29/1000 [00:07<03:43,  4.34it/s]\u001b[A\n",
      "  3%|▎         | 30/1000 [00:07<03:37,  4.45it/s]\u001b[A"
     ]
    },
    {
     "name": "stdout",
     "output_type": "stream",
     "text": [
      "Epoch 30\n",
      "7.186949369497597e-05\n",
      "0.1296338587999344\n"
     ]
    },
    {
     "name": "stderr",
     "output_type": "stream",
     "text": [
      "\n",
      "  3%|▎         | 31/1000 [00:07<03:35,  4.50it/s]\u001b[A\n",
      "  3%|▎         | 32/1000 [00:08<03:34,  4.51it/s]\u001b[A\n",
      "  3%|▎         | 33/1000 [00:08<03:34,  4.51it/s]\u001b[A\n",
      "  3%|▎         | 34/1000 [00:08<03:33,  4.53it/s]\u001b[A\n",
      "  4%|▎         | 35/1000 [00:08<03:32,  4.54it/s]\u001b[A\n",
      "  4%|▎         | 36/1000 [00:08<03:32,  4.54it/s]\u001b[A\n",
      "  4%|▎         | 37/1000 [00:09<03:33,  4.50it/s]\u001b[A\n",
      "  4%|▍         | 38/1000 [00:09<03:56,  4.07it/s]\u001b[A\n",
      "  4%|▍         | 39/1000 [00:09<03:52,  4.13it/s]\u001b[A\n",
      "  4%|▍         | 40/1000 [00:09<03:47,  4.22it/s]\u001b[A"
     ]
    },
    {
     "name": "stdout",
     "output_type": "stream",
     "text": [
      "Epoch 40\n",
      "4.129127410124056e-05\n",
      "0.12875501811504364\n"
     ]
    },
    {
     "name": "stderr",
     "output_type": "stream",
     "text": [
      "\n",
      "  4%|▍         | 41/1000 [00:10<03:46,  4.23it/s]\u001b[A\n",
      "  4%|▍         | 42/1000 [00:10<03:43,  4.28it/s]\u001b[A\n",
      "  4%|▍         | 43/1000 [00:10<03:41,  4.31it/s]\u001b[A\n",
      "  4%|▍         | 44/1000 [00:10<03:40,  4.33it/s]\u001b[A\n",
      "  4%|▍         | 45/1000 [00:11<03:35,  4.42it/s]\u001b[A\n",
      "  5%|▍         | 46/1000 [00:11<03:32,  4.50it/s]\u001b[A\n",
      "  5%|▍         | 47/1000 [00:11<03:36,  4.41it/s]\u001b[A\n",
      "  5%|▍         | 48/1000 [00:11<03:59,  3.97it/s]\u001b[A\n",
      "  5%|▍         | 49/1000 [00:12<04:02,  3.92it/s]\u001b[A\n",
      "  5%|▌         | 50/1000 [00:12<03:52,  4.09it/s]\u001b[A"
     ]
    },
    {
     "name": "stdout",
     "output_type": "stream",
     "text": [
      "Epoch 50\n",
      "3.053733962588012e-05\n",
      "0.12663491070270538\n"
     ]
    },
    {
     "name": "stderr",
     "output_type": "stream",
     "text": [
      "\n",
      "  5%|▌         | 51/1000 [00:12<04:01,  3.92it/s]\u001b[A\n",
      "  5%|▌         | 52/1000 [00:12<04:24,  3.59it/s]\u001b[A\n",
      "  5%|▌         | 53/1000 [00:13<04:47,  3.29it/s]\u001b[A\n",
      "  5%|▌         | 54/1000 [00:13<05:12,  3.03it/s]\u001b[A\n",
      "  6%|▌         | 55/1000 [00:14<05:51,  2.68it/s]\u001b[A\n",
      "  6%|▌         | 56/1000 [00:14<06:06,  2.58it/s]\u001b[A\n",
      "  6%|▌         | 57/1000 [00:14<05:51,  2.68it/s]\u001b[A\n",
      "  6%|▌         | 58/1000 [00:15<06:01,  2.61it/s]\u001b[A\n",
      "  6%|▌         | 59/1000 [00:15<05:46,  2.72it/s]\u001b[A\n",
      "  6%|▌         | 60/1000 [00:15<05:26,  2.88it/s]\u001b[A"
     ]
    },
    {
     "name": "stdout",
     "output_type": "stream",
     "text": [
      "Epoch 60\n",
      "3.337606540299021e-05\n",
      "0.1280660629272461\n"
     ]
    },
    {
     "name": "stderr",
     "output_type": "stream",
     "text": [
      "\n",
      "  6%|▌         | 61/1000 [00:16<04:58,  3.15it/s]\u001b[A\n",
      "  6%|▌         | 62/1000 [00:16<05:02,  3.10it/s]\u001b[A\n",
      "  6%|▋         | 63/1000 [00:16<05:10,  3.01it/s]\u001b[A\n",
      "  6%|▋         | 64/1000 [00:17<05:08,  3.04it/s]\u001b[A\n",
      "  6%|▋         | 65/1000 [00:17<05:27,  2.85it/s]\u001b[A\n",
      "  7%|▋         | 66/1000 [00:18<06:08,  2.53it/s]\u001b[A\n",
      "  7%|▋         | 67/1000 [00:18<06:02,  2.57it/s]\u001b[A\n",
      "  7%|▋         | 68/1000 [00:18<05:45,  2.70it/s]\u001b[A\n",
      "  7%|▋         | 69/1000 [00:19<05:43,  2.71it/s]\u001b[A\n",
      "  7%|▋         | 70/1000 [00:19<06:21,  2.44it/s]\u001b[A"
     ]
    },
    {
     "name": "stdout",
     "output_type": "stream",
     "text": [
      "Epoch 70\n",
      "3.0561015591956675e-05\n",
      "0.1275983601808548\n"
     ]
    },
    {
     "name": "stderr",
     "output_type": "stream",
     "text": [
      "\n",
      "  7%|▋         | 71/1000 [00:19<05:50,  2.65it/s]\u001b[A\n",
      "  7%|▋         | 72/1000 [00:20<06:14,  2.48it/s]\u001b[A\n",
      "  7%|▋         | 73/1000 [00:20<06:32,  2.36it/s]\u001b[A\n",
      "  7%|▋         | 74/1000 [00:21<06:29,  2.38it/s]\u001b[A\n",
      "  8%|▊         | 75/1000 [00:21<06:10,  2.49it/s]\u001b[A\n",
      "  8%|▊         | 76/1000 [00:22<05:54,  2.61it/s]\u001b[A\n",
      "  8%|▊         | 77/1000 [00:22<05:21,  2.87it/s]\u001b[A\n",
      "  8%|▊         | 78/1000 [00:22<05:45,  2.67it/s]\u001b[A\n",
      "  8%|▊         | 79/1000 [00:23<05:47,  2.65it/s]\u001b[A\n",
      "  8%|▊         | 80/1000 [00:23<05:49,  2.63it/s]\u001b[A"
     ]
    },
    {
     "name": "stdout",
     "output_type": "stream",
     "text": [
      "Epoch 80\n",
      "3.931652463506907e-05\n",
      "0.12635795772075653\n"
     ]
    },
    {
     "name": "stderr",
     "output_type": "stream",
     "text": [
      "\n",
      "  8%|▊         | 81/1000 [00:23<06:00,  2.55it/s]\u001b[A\n",
      "  8%|▊         | 82/1000 [00:24<05:44,  2.67it/s]\u001b[A\n",
      "  8%|▊         | 83/1000 [00:24<05:30,  2.78it/s]\u001b[A\n",
      "  8%|▊         | 84/1000 [00:24<05:36,  2.72it/s]\u001b[A\n",
      "  8%|▊         | 85/1000 [00:25<05:32,  2.75it/s]\u001b[A\n",
      "  9%|▊         | 86/1000 [00:25<05:29,  2.77it/s]\u001b[A\n",
      "  9%|▊         | 87/1000 [00:26<05:23,  2.82it/s]\u001b[A\n",
      "  9%|▉         | 88/1000 [00:26<05:07,  2.97it/s]\u001b[A\n",
      "  9%|▉         | 89/1000 [00:26<04:49,  3.15it/s]\u001b[A\n",
      "  9%|▉         | 90/1000 [00:26<04:26,  3.42it/s]\u001b[A"
     ]
    },
    {
     "name": "stdout",
     "output_type": "stream",
     "text": [
      "Epoch 90\n",
      "3.9274880691664293e-05\n",
      "0.12639351189136505\n"
     ]
    },
    {
     "name": "stderr",
     "output_type": "stream",
     "text": [
      "\n",
      "  9%|▉         | 91/1000 [00:27<04:27,  3.40it/s]\u001b[A\n",
      "  9%|▉         | 92/1000 [00:27<04:05,  3.69it/s]\u001b[A\n",
      "  9%|▉         | 93/1000 [00:27<03:55,  3.85it/s]\u001b[A\n",
      "  9%|▉         | 94/1000 [00:27<03:53,  3.87it/s]\u001b[A\n",
      " 10%|▉         | 95/1000 [00:28<04:02,  3.74it/s]\u001b[A\n",
      " 10%|▉         | 96/1000 [00:28<04:01,  3.75it/s]\u001b[A\n",
      " 10%|▉         | 97/1000 [00:28<03:51,  3.91it/s]\u001b[A\n",
      " 10%|▉         | 98/1000 [00:28<03:43,  4.04it/s]\u001b[A\n",
      " 10%|▉         | 99/1000 [00:29<03:38,  4.13it/s]\u001b[A\n",
      " 10%|█         | 100/1000 [00:29<03:37,  4.13it/s]\u001b[A"
     ]
    },
    {
     "name": "stdout",
     "output_type": "stream",
     "text": [
      "Epoch 100\n",
      "4.610150426742621e-05\n",
      "0.1270693987607956\n"
     ]
    },
    {
     "name": "stderr",
     "output_type": "stream",
     "text": [
      "\n",
      " 10%|█         | 101/1000 [00:29<03:42,  4.05it/s]\u001b[A\n",
      " 10%|█         | 102/1000 [00:29<03:46,  3.97it/s]\u001b[A\n",
      " 10%|█         | 103/1000 [00:30<03:34,  4.17it/s]\u001b[A\n",
      " 10%|█         | 104/1000 [00:30<03:27,  4.31it/s]\u001b[A\n",
      " 10%|█         | 105/1000 [00:30<03:27,  4.31it/s]\u001b[A\n",
      " 11%|█         | 106/1000 [00:30<03:30,  4.25it/s]\u001b[A\n",
      " 11%|█         | 107/1000 [00:30<03:33,  4.18it/s]\u001b[A\n",
      " 11%|█         | 108/1000 [00:31<03:35,  4.14it/s]\u001b[A\n",
      " 11%|█         | 109/1000 [00:31<03:36,  4.11it/s]\u001b[A\n",
      " 11%|█         | 110/1000 [00:31<03:38,  4.08it/s]\u001b[A"
     ]
    },
    {
     "name": "stdout",
     "output_type": "stream",
     "text": [
      "Epoch 110\n",
      "4.089231515536085e-05\n",
      "0.12527894973754883\n"
     ]
    },
    {
     "name": "stderr",
     "output_type": "stream",
     "text": [
      "\n",
      " 11%|█         | 111/1000 [00:31<03:41,  4.02it/s]\u001b[A\n",
      " 11%|█         | 112/1000 [00:32<03:40,  4.02it/s]\u001b[A\n",
      " 11%|█▏        | 113/1000 [00:32<03:39,  4.04it/s]\u001b[A\n",
      " 11%|█▏        | 114/1000 [00:32<03:42,  3.98it/s]\u001b[A\n",
      " 12%|█▏        | 115/1000 [00:32<03:41,  4.00it/s]\u001b[A\n",
      " 12%|█▏        | 116/1000 [00:33<03:39,  4.02it/s]\u001b[A\n",
      " 12%|█▏        | 117/1000 [00:33<03:37,  4.07it/s]\u001b[A\n",
      " 12%|█▏        | 118/1000 [00:33<03:38,  4.04it/s]\u001b[A\n",
      " 12%|█▏        | 119/1000 [00:33<03:40,  4.00it/s]\u001b[A\n",
      " 12%|█▏        | 120/1000 [00:34<03:44,  3.93it/s]\u001b[A"
     ]
    },
    {
     "name": "stdout",
     "output_type": "stream",
     "text": [
      "Epoch 120\n",
      "7.352513785008341e-05\n",
      "0.1253672093153\n"
     ]
    },
    {
     "name": "stderr",
     "output_type": "stream",
     "text": [
      "\n",
      " 12%|█▏        | 121/1000 [00:34<03:44,  3.91it/s]\u001b[A\n",
      " 12%|█▏        | 122/1000 [00:34<03:41,  3.96it/s]\u001b[A\n",
      " 12%|█▏        | 123/1000 [00:34<03:39,  4.00it/s]\u001b[A\n",
      " 12%|█▏        | 124/1000 [00:35<03:38,  4.01it/s]\u001b[A\n",
      " 12%|█▎        | 125/1000 [00:35<03:36,  4.04it/s]\u001b[A\n",
      " 13%|█▎        | 126/1000 [00:35<03:35,  4.06it/s]\u001b[A\n",
      " 13%|█▎        | 127/1000 [00:35<03:38,  3.99it/s]\u001b[A\n",
      " 13%|█▎        | 128/1000 [00:36<03:37,  4.02it/s]\u001b[A\n",
      " 13%|█▎        | 129/1000 [00:36<03:37,  4.00it/s]\u001b[A\n",
      " 13%|█▎        | 130/1000 [00:36<03:38,  3.98it/s]\u001b[A"
     ]
    },
    {
     "name": "stdout",
     "output_type": "stream",
     "text": [
      "Epoch 130\n",
      "6.744111306034029e-05\n",
      "0.12451541423797607\n"
     ]
    },
    {
     "name": "stderr",
     "output_type": "stream",
     "text": [
      "\n",
      " 13%|█▎        | 131/1000 [00:36<03:37,  4.00it/s]\u001b[A\n",
      " 13%|█▎        | 132/1000 [00:37<03:36,  4.02it/s]\u001b[A\n",
      " 13%|█▎        | 133/1000 [00:37<03:38,  3.96it/s]\u001b[A\n",
      " 13%|█▎        | 134/1000 [00:37<03:41,  3.90it/s]\u001b[A\n",
      " 14%|█▎        | 135/1000 [00:37<03:41,  3.90it/s]\u001b[A\n",
      " 14%|█▎        | 136/1000 [00:38<03:39,  3.93it/s]\u001b[A\n",
      " 14%|█▎        | 137/1000 [00:38<03:40,  3.91it/s]\u001b[A\n",
      " 14%|█▍        | 138/1000 [00:38<03:40,  3.91it/s]\u001b[A\n",
      " 14%|█▍        | 139/1000 [00:39<03:39,  3.93it/s]\u001b[A\n",
      " 14%|█▍        | 140/1000 [00:39<03:36,  3.97it/s]\u001b[A"
     ]
    },
    {
     "name": "stdout",
     "output_type": "stream",
     "text": [
      "Epoch 140\n",
      "5.482614869833924e-05\n",
      "0.12478383630514145\n"
     ]
    },
    {
     "name": "stderr",
     "output_type": "stream",
     "text": [
      "\n",
      " 14%|█▍        | 141/1000 [00:39<03:37,  3.96it/s]\u001b[A\n",
      " 14%|█▍        | 142/1000 [00:39<04:00,  3.57it/s]\u001b[A\n",
      " 14%|█▍        | 143/1000 [00:40<04:08,  3.46it/s]\u001b[A\n",
      " 14%|█▍        | 144/1000 [00:40<04:03,  3.52it/s]\u001b[A\n",
      " 14%|█▍        | 145/1000 [00:40<04:15,  3.35it/s]\u001b[A\n",
      " 15%|█▍        | 146/1000 [00:41<04:28,  3.18it/s]\u001b[A\n",
      " 15%|█▍        | 147/1000 [00:41<04:28,  3.18it/s]\u001b[A\n",
      " 15%|█▍        | 148/1000 [00:41<04:11,  3.39it/s]\u001b[A\n",
      " 15%|█▍        | 149/1000 [00:41<04:00,  3.54it/s]\u001b[A\n",
      " 15%|█▌        | 150/1000 [00:42<03:50,  3.68it/s]\u001b[A"
     ]
    },
    {
     "name": "stdout",
     "output_type": "stream",
     "text": [
      "Epoch 150\n",
      "6.560551264556125e-05\n",
      "0.12336794286966324\n"
     ]
    },
    {
     "name": "stderr",
     "output_type": "stream",
     "text": [
      "\n",
      " 15%|█▌        | 151/1000 [00:42<03:43,  3.81it/s]\u001b[A\n",
      " 15%|█▌        | 152/1000 [00:42<03:38,  3.88it/s]\u001b[A\n",
      " 15%|█▌        | 153/1000 [00:42<03:36,  3.90it/s]\u001b[A\n",
      " 15%|█▌        | 154/1000 [00:43<03:35,  3.93it/s]\u001b[A\n",
      " 16%|█▌        | 155/1000 [00:43<03:33,  3.96it/s]\u001b[A\n",
      " 16%|█▌        | 156/1000 [00:43<03:34,  3.94it/s]\u001b[A\n",
      " 16%|█▌        | 157/1000 [00:43<03:33,  3.95it/s]\u001b[A\n",
      " 16%|█▌        | 158/1000 [00:44<03:30,  4.01it/s]\u001b[A\n",
      " 16%|█▌        | 159/1000 [00:44<03:26,  4.07it/s]\u001b[A\n",
      " 16%|█▌        | 160/1000 [00:44<03:25,  4.09it/s]\u001b[A"
     ]
    },
    {
     "name": "stdout",
     "output_type": "stream",
     "text": [
      "Epoch 160\n",
      "5.881074321223423e-05\n",
      "0.12293501943349838\n"
     ]
    },
    {
     "name": "stderr",
     "output_type": "stream",
     "text": [
      "\n",
      " 16%|█▌        | 161/1000 [00:44<03:24,  4.10it/s]\u001b[A\n",
      " 16%|█▌        | 162/1000 [00:45<03:24,  4.10it/s]\u001b[A\n",
      " 16%|█▋        | 163/1000 [00:45<03:25,  4.08it/s]\u001b[A\n",
      " 16%|█▋        | 164/1000 [00:45<03:24,  4.09it/s]\u001b[A\n",
      " 16%|█▋        | 165/1000 [00:45<03:27,  4.03it/s]\u001b[A\n",
      " 17%|█▋        | 166/1000 [00:46<03:27,  4.02it/s]\u001b[A\n",
      " 17%|█▋        | 167/1000 [00:46<03:25,  4.05it/s]\u001b[A\n",
      " 17%|█▋        | 168/1000 [00:46<03:25,  4.05it/s]\u001b[A\n",
      " 17%|█▋        | 169/1000 [00:46<03:24,  4.07it/s]\u001b[A\n",
      " 17%|█▋        | 170/1000 [00:47<03:24,  4.05it/s]\u001b[A"
     ]
    },
    {
     "name": "stdout",
     "output_type": "stream",
     "text": [
      "Epoch 170\n",
      "9.444910392630845e-05\n",
      "0.12187615782022476\n"
     ]
    },
    {
     "name": "stderr",
     "output_type": "stream",
     "text": [
      "\n",
      " 17%|█▋        | 171/1000 [00:47<03:25,  4.04it/s]\u001b[A\n",
      " 17%|█▋        | 172/1000 [00:47<03:25,  4.03it/s]\u001b[A\n",
      " 17%|█▋        | 173/1000 [00:47<03:28,  3.97it/s]\u001b[A\n",
      " 17%|█▋        | 174/1000 [00:48<03:29,  3.94it/s]\u001b[A\n",
      " 18%|█▊        | 175/1000 [00:48<03:27,  3.98it/s]\u001b[A\n",
      " 18%|█▊        | 176/1000 [00:48<03:25,  4.01it/s]\u001b[A\n",
      " 18%|█▊        | 177/1000 [00:48<03:23,  4.05it/s]\u001b[A\n",
      " 18%|█▊        | 178/1000 [00:49<03:22,  4.06it/s]\u001b[A\n",
      " 18%|█▊        | 179/1000 [00:49<03:42,  3.70it/s]\u001b[A\n",
      " 18%|█▊        | 180/1000 [00:49<04:07,  3.32it/s]\u001b[A"
     ]
    },
    {
     "name": "stdout",
     "output_type": "stream",
     "text": [
      "Epoch 180\n",
      "9.948195656761527e-05\n",
      "0.12155226618051529\n"
     ]
    },
    {
     "name": "stderr",
     "output_type": "stream",
     "text": [
      "\n",
      " 18%|█▊        | 181/1000 [00:50<03:58,  3.43it/s]\u001b[A\n",
      " 18%|█▊        | 182/1000 [00:50<03:49,  3.57it/s]\u001b[A\n",
      " 18%|█▊        | 183/1000 [00:50<03:40,  3.70it/s]\u001b[A\n",
      " 18%|█▊        | 184/1000 [00:50<03:40,  3.70it/s]\u001b[A\n",
      " 18%|█▊        | 185/1000 [00:51<03:49,  3.54it/s]\u001b[A\n",
      " 19%|█▊        | 186/1000 [00:51<03:43,  3.64it/s]\u001b[A\n",
      " 19%|█▊        | 187/1000 [00:51<03:36,  3.75it/s]\u001b[A\n",
      " 19%|█▉        | 188/1000 [00:51<03:36,  3.75it/s]\u001b[A\n",
      " 19%|█▉        | 189/1000 [00:52<03:33,  3.80it/s]\u001b[A\n",
      " 19%|█▉        | 190/1000 [00:52<03:31,  3.83it/s]\u001b[A"
     ]
    },
    {
     "name": "stdout",
     "output_type": "stream",
     "text": [
      "Epoch 190\n",
      "4.9482154281577095e-05\n",
      "0.12170640379190445\n"
     ]
    },
    {
     "name": "stderr",
     "output_type": "stream",
     "text": [
      "\n",
      " 19%|█▉        | 191/1000 [00:52<03:29,  3.86it/s]\u001b[A\n",
      " 19%|█▉        | 192/1000 [00:52<03:27,  3.89it/s]\u001b[A\n",
      " 19%|█▉        | 193/1000 [00:53<03:26,  3.91it/s]\u001b[A\n",
      " 19%|█▉        | 194/1000 [00:53<03:25,  3.92it/s]\u001b[A\n",
      " 20%|█▉        | 195/1000 [00:53<03:26,  3.90it/s]\u001b[A\n",
      " 20%|█▉        | 196/1000 [00:53<03:29,  3.83it/s]\u001b[A\n",
      " 20%|█▉        | 197/1000 [00:54<03:25,  3.91it/s]\u001b[A\n",
      " 20%|█▉        | 198/1000 [00:54<03:22,  3.97it/s]\u001b[A\n",
      " 20%|█▉        | 199/1000 [00:54<03:19,  4.01it/s]\u001b[A\n",
      " 20%|██        | 200/1000 [00:54<03:23,  3.94it/s]\u001b[A"
     ]
    },
    {
     "name": "stdout",
     "output_type": "stream",
     "text": [
      "Epoch 200\n",
      "4.891613207291812e-05\n",
      "0.12213333696126938\n"
     ]
    },
    {
     "name": "stderr",
     "output_type": "stream",
     "text": [
      "\n",
      " 20%|██        | 201/1000 [00:55<03:23,  3.93it/s]\u001b[A\n",
      " 20%|██        | 202/1000 [00:55<03:20,  3.97it/s]\u001b[A\n",
      " 20%|██        | 203/1000 [00:55<03:24,  3.90it/s]\u001b[A\n",
      " 20%|██        | 204/1000 [00:55<03:22,  3.93it/s]\u001b[A\n",
      " 20%|██        | 205/1000 [00:56<03:19,  3.98it/s]\u001b[A\n",
      " 21%|██        | 206/1000 [00:56<03:20,  3.97it/s]\u001b[A\n",
      " 21%|██        | 207/1000 [00:56<03:18,  3.99it/s]\u001b[A\n",
      " 21%|██        | 208/1000 [00:56<03:19,  3.98it/s]\u001b[A\n",
      " 21%|██        | 209/1000 [00:57<03:17,  4.01it/s]\u001b[A\n",
      " 21%|██        | 210/1000 [00:57<03:16,  4.02it/s]\u001b[A"
     ]
    },
    {
     "name": "stdout",
     "output_type": "stream",
     "text": [
      "Epoch 210\n",
      "6.0979022237006575e-05\n",
      "0.12209924310445786\n"
     ]
    },
    {
     "name": "stderr",
     "output_type": "stream",
     "text": [
      "\n",
      " 21%|██        | 211/1000 [00:57<03:17,  4.00it/s]\u001b[A\n",
      " 21%|██        | 212/1000 [00:58<03:19,  3.95it/s]\u001b[A\n",
      " 21%|██▏       | 213/1000 [00:58<03:17,  3.98it/s]\u001b[A\n",
      " 21%|██▏       | 214/1000 [00:58<03:15,  4.02it/s]\u001b[A\n",
      " 22%|██▏       | 215/1000 [00:58<03:14,  4.03it/s]\u001b[A\n",
      " 22%|██▏       | 216/1000 [00:58<03:15,  4.00it/s]\u001b[A\n",
      " 22%|██▏       | 217/1000 [00:59<03:23,  3.86it/s]\u001b[A\n",
      " 22%|██▏       | 218/1000 [00:59<03:21,  3.88it/s]\u001b[A\n",
      " 22%|██▏       | 219/1000 [00:59<03:20,  3.89it/s]\u001b[A\n",
      " 22%|██▏       | 220/1000 [01:00<03:20,  3.89it/s]\u001b[A"
     ]
    },
    {
     "name": "stdout",
     "output_type": "stream",
     "text": [
      "Epoch 220\n",
      "6.047538772691041e-05\n",
      "0.12140806764364243\n"
     ]
    },
    {
     "name": "stderr",
     "output_type": "stream",
     "text": [
      "\n",
      " 22%|██▏       | 221/1000 [01:00<03:19,  3.90it/s]\u001b[A\n",
      " 22%|██▏       | 222/1000 [01:00<03:22,  3.84it/s]\u001b[A\n",
      " 22%|██▏       | 223/1000 [01:00<03:18,  3.91it/s]\u001b[A\n",
      " 22%|██▏       | 224/1000 [01:01<03:17,  3.93it/s]\u001b[A\n",
      " 22%|██▎       | 225/1000 [01:01<03:16,  3.95it/s]\u001b[A\n",
      " 23%|██▎       | 226/1000 [01:01<03:16,  3.94it/s]\u001b[A\n",
      " 23%|██▎       | 227/1000 [01:01<03:17,  3.91it/s]\u001b[A\n",
      " 23%|██▎       | 228/1000 [01:02<03:20,  3.84it/s]\u001b[A\n",
      " 23%|██▎       | 229/1000 [01:02<03:52,  3.32it/s]\u001b[A\n",
      " 23%|██▎       | 230/1000 [01:02<04:13,  3.04it/s]\u001b[A"
     ]
    },
    {
     "name": "stdout",
     "output_type": "stream",
     "text": [
      "Epoch 230\n",
      "6.926717469468713e-05\n",
      "0.12226184457540512\n"
     ]
    },
    {
     "name": "stderr",
     "output_type": "stream",
     "text": [
      "\n",
      " 23%|██▎       | 231/1000 [01:03<04:34,  2.81it/s]\u001b[A\n",
      " 23%|██▎       | 232/1000 [01:03<04:42,  2.71it/s]\u001b[A\n",
      " 23%|██▎       | 233/1000 [01:04<04:35,  2.78it/s]\u001b[A\n",
      " 23%|██▎       | 234/1000 [01:04<04:30,  2.83it/s]\u001b[A\n",
      " 24%|██▎       | 235/1000 [01:04<04:25,  2.88it/s]\u001b[A\n",
      " 24%|██▎       | 236/1000 [01:05<04:17,  2.97it/s]\u001b[A\n",
      " 24%|██▎       | 237/1000 [01:05<04:16,  2.98it/s]\u001b[A\n",
      " 24%|██▍       | 238/1000 [01:05<04:15,  2.98it/s]\u001b[A\n",
      " 24%|██▍       | 239/1000 [01:06<04:16,  2.96it/s]\u001b[A\n",
      " 24%|██▍       | 240/1000 [01:06<04:12,  3.01it/s]\u001b[A"
     ]
    },
    {
     "name": "stdout",
     "output_type": "stream",
     "text": [
      "Epoch 240\n",
      "6.841680442448705e-05\n",
      "0.12063384056091309\n"
     ]
    },
    {
     "name": "stderr",
     "output_type": "stream",
     "text": [
      "\n",
      " 24%|██▍       | 241/1000 [01:06<04:07,  3.06it/s]\u001b[A\n",
      " 24%|██▍       | 242/1000 [01:06<04:05,  3.09it/s]\u001b[A\n",
      " 24%|██▍       | 243/1000 [01:07<04:02,  3.12it/s]\u001b[A\n",
      " 24%|██▍       | 244/1000 [01:07<04:02,  3.12it/s]\u001b[A\n",
      " 24%|██▍       | 245/1000 [01:07<04:03,  3.10it/s]\u001b[A\n",
      " 25%|██▍       | 246/1000 [01:08<04:02,  3.11it/s]\u001b[A\n",
      " 25%|██▍       | 247/1000 [01:08<04:01,  3.11it/s]\u001b[A\n",
      " 25%|██▍       | 248/1000 [01:08<04:12,  2.98it/s]\u001b[A\n",
      " 25%|██▍       | 249/1000 [01:09<04:20,  2.89it/s]\u001b[A\n",
      " 25%|██▌       | 250/1000 [01:09<04:35,  2.72it/s]\u001b[A"
     ]
    },
    {
     "name": "stdout",
     "output_type": "stream",
     "text": [
      "Epoch 250\n",
      "8.025063289096579e-05\n",
      "0.11992645263671875\n"
     ]
    },
    {
     "name": "stderr",
     "output_type": "stream",
     "text": [
      "\n",
      " 25%|██▌       | 251/1000 [01:10<04:46,  2.61it/s]\u001b[A\n",
      " 25%|██▌       | 252/1000 [01:10<05:05,  2.45it/s]\u001b[A\n",
      " 25%|██▌       | 253/1000 [01:11<05:03,  2.46it/s]\u001b[A\n",
      " 25%|██▌       | 254/1000 [01:11<04:52,  2.55it/s]\u001b[A\n",
      " 26%|██▌       | 255/1000 [01:11<04:48,  2.58it/s]\u001b[A\n",
      " 26%|██▌       | 256/1000 [01:12<04:26,  2.80it/s]\u001b[A\n",
      " 26%|██▌       | 257/1000 [01:12<05:08,  2.41it/s]\u001b[A\n",
      " 26%|██▌       | 258/1000 [01:13<05:13,  2.37it/s]\u001b[A\n",
      " 26%|██▌       | 259/1000 [01:13<05:23,  2.29it/s]\u001b[A\n",
      " 26%|██▌       | 260/1000 [01:13<05:19,  2.32it/s]\u001b[A"
     ]
    },
    {
     "name": "stdout",
     "output_type": "stream",
     "text": [
      "Epoch 260\n",
      "6.066640708013438e-05\n",
      "0.12035910040140152\n"
     ]
    },
    {
     "name": "stderr",
     "output_type": "stream",
     "text": [
      "\n",
      " 26%|██▌       | 261/1000 [01:14<04:56,  2.49it/s]\u001b[A\n",
      " 26%|██▌       | 262/1000 [01:14<05:05,  2.42it/s]\u001b[A\n",
      " 26%|██▋       | 263/1000 [01:15<05:03,  2.43it/s]\u001b[A\n",
      " 26%|██▋       | 264/1000 [01:15<04:54,  2.50it/s]\u001b[A\n",
      " 26%|██▋       | 265/1000 [01:15<05:15,  2.33it/s]\u001b[A\n",
      " 27%|██▋       | 266/1000 [01:16<05:08,  2.38it/s]\u001b[A\n",
      " 27%|██▋       | 267/1000 [01:16<05:26,  2.25it/s]\u001b[A\n",
      " 27%|██▋       | 268/1000 [01:17<05:21,  2.27it/s]\u001b[A\n",
      " 27%|██▋       | 269/1000 [01:17<05:09,  2.37it/s]\u001b[A\n",
      " 27%|██▋       | 270/1000 [01:18<05:18,  2.29it/s]\u001b[A"
     ]
    },
    {
     "name": "stdout",
     "output_type": "stream",
     "text": [
      "Epoch 270\n",
      "9.231701551470906e-05\n",
      "0.12028726190328598\n"
     ]
    },
    {
     "name": "stderr",
     "output_type": "stream",
     "text": [
      "\n",
      " 27%|██▋       | 271/1000 [01:18<05:14,  2.32it/s]\u001b[A\n",
      " 27%|██▋       | 272/1000 [01:19<05:10,  2.34it/s]\u001b[A\n",
      " 27%|██▋       | 273/1000 [01:19<05:03,  2.40it/s]\u001b[A\n",
      " 27%|██▋       | 274/1000 [01:19<04:59,  2.42it/s]\u001b[A\n",
      " 28%|██▊       | 275/1000 [01:20<04:33,  2.65it/s]\u001b[A\n",
      " 28%|██▊       | 276/1000 [01:20<04:30,  2.67it/s]\u001b[A\n",
      " 28%|██▊       | 277/1000 [01:20<04:34,  2.64it/s]\u001b[A\n",
      " 28%|██▊       | 278/1000 [01:21<04:29,  2.68it/s]\u001b[A\n",
      " 28%|██▊       | 279/1000 [01:21<04:25,  2.71it/s]\u001b[A\n",
      " 28%|██▊       | 280/1000 [01:21<04:24,  2.72it/s]\u001b[A"
     ]
    }
   ],
   "source": [
    "import os\n",
    "import math\n",
    "import numpy as np\n",
    "import pandas as po\n",
    "import matplotlib.pyplot as plt\n",
    "\n",
    "import torch\n",
    "from torch import nn\n",
    "import torch.optim as optim\n",
    "from torch.autograd import Variable\n",
    "\n",
    "from sklearn.metrics import r2_score\n",
    "from sklearn.metrics import accuracy_score\n",
    "from sklearn.model_selection import train_test_split\n",
    "from tqdm import tqdm\n",
    "\n",
    "#lambs = np.flip([0.01,0.02,0.05,0.1,0.2,0.5,1.0,2.0,5.0,10.0,20.0,50.0,100.0])\n",
    "#lambs = [1e-4,2e-4,5e-4,1e-3,2e-3,5e-3,0.01,0.02,0.05,0.1,0.2,0.5,1.0,2.0,5.0,10.0,20.0,50.0,100.0,200,500,1000]\n",
    "lambs = [0.1]\n",
    "#lambs = np.array([0.01,0.02,0.05,0.1,0.2,0.5,1.0,2.0,5.0,10.0])\n",
    "wx = 1\n",
    "wy = 2\n",
    "folder = \"2D_{}_{}\".format(wx,wy)\n",
    "\n",
    "seed = 1\n",
    "torch.manual_seed(seed)\n",
    "np.random.seed(seed)\n",
    "\n",
    "best_losses = []\n",
    "best_regs = []\n",
    "\n",
    "num_pts = 1000\n",
    "#gamma = 10\n",
    "#lamb = 0.02\n",
    "\n",
    "data = po.DataFrame()\n",
    "data['x'] = 4*np.random.rand(num_pts,)-2\n",
    "data['px'] = 4*np.random.rand(num_pts,)-2\n",
    "\n",
    "data['y'] = 4*np.random.rand(num_pts,)-2\n",
    "data['py'] = 4*np.random.rand(num_pts,)-2\n",
    "\n",
    "\n",
    "data['dx/dt'] = data['px']\n",
    "data['dpx/dt'] = -wx**2*data['x']\n",
    "\n",
    "data['dy/dt'] = data['py']\n",
    "data['dpy/dt'] = -wy**2*data['y']\n",
    "\n",
    "\n",
    "f_z = torch.tensor(data[['dx/dt', 'dpx/dt', 'dy/dt', 'dpy/dt']].values, requires_grad=True).float()\n",
    "z = torch.tensor(data[['x', 'px', 'y', 'py']].values, requires_grad=True).float()\n",
    "\n",
    "\n",
    "# initialize network\n",
    "num_model = 4\n",
    "nets = []\n",
    "\n",
    "class Hnet(nn.Module):\n",
    "    def __init__(self, z_dim=2, w=400):\n",
    "        super(Hnet, self).__init__()\n",
    "        self.z_dim = z_dim\n",
    "        input_dim = z_dim\n",
    "\n",
    "        self.h_lin_1 = nn.Linear(input_dim, w) #\n",
    "        self.h_lin_2 = nn.Linear(w, w) #\n",
    "        self.h_lin_3 = nn.Linear(w, 1) #\n",
    "        self.h_relu = nn.ReLU()\n",
    "        self.h_tanh = nn.Tanh()\n",
    "        self.h_silu = nn.SiLU()\n",
    "\n",
    "    def h_z_basic(self, z):\n",
    "        out = self.h_lin_1(z)\n",
    "        out = self.h_silu(out)\n",
    "        out = self.h_lin_2(out)\n",
    "        out = self.h_silu(out)\n",
    "        out = self.h_lin_3(out)\n",
    "        return out\n",
    "\n",
    "    def h_z(self, z):\n",
    "        out = self.h_z_basic(z)\n",
    "        return out\n",
    "\n",
    "    def forward(self, z, verbose=False):\n",
    "        bs = z.shape[0]\n",
    "\n",
    "        h = self.h_z(z)\n",
    "        dh = torch.autograd.grad(h, z, torch.ones_like(h), create_graph=True, retain_graph=True)[0]\n",
    "        bs = z.shape[0]\n",
    "        dh = dh.reshape(bs,-1)\n",
    "        return dh\n",
    "\n",
    "\n",
    "def train(nets, f_z, z,\n",
    "            lr=2e-2,\n",
    "            epochs = 2000, \n",
    "            bs = 100,\n",
    "            es_delta = 0.000001, \n",
    "            epoch_loss = 1e9,\n",
    "            max_loss_divergence = 0.1,\n",
    "            weight_decay=0, \n",
    "            weight_decay_decay=False,model=None):\n",
    "\n",
    "\n",
    "    num_model = len(nets)\n",
    "\n",
    "    z_dim = z.shape[1]\n",
    "    entropy_dim = np.minimum(num_model, z_dim)\n",
    "    parameters = list([])\n",
    "    for i in range(num_model):\n",
    "        parameters = list(parameters) + list(nets[i].parameters())\n",
    "    optimizer = optim.Adam(parameters, lr=lr, weight_decay=weight_decay, eps=1e-8)\n",
    "    #optimizer = optim.SGD(parameters, lr=lr, weight_decay=weight_decay)\n",
    "\n",
    "    for k in range(num_model):\n",
    "        nets[k].train()\n",
    "    losses = []\n",
    "    losses_fit = []\n",
    "    losses_reg = []\n",
    "    lamb_H = 0.00\n",
    "    lamb_dH = lamb\n",
    "    loss_pow = 2\n",
    "\n",
    "\n",
    "    for epoch in tqdm(range(epochs)):\n",
    "        for i in range((len(f_z) - 1) // bs + 1):\n",
    "            choices = np.random.choice(len(f_z), bs, replace=False)\n",
    "            #start_i = i * bs\n",
    "            #end_i = start_i + bs\n",
    "            xb = z[choices, :]\n",
    "            fitloss = 0.\n",
    "            fitlosses = []\n",
    "            yb = f_z[choices, :]\n",
    "            yb = yb.reshape(bs,-1)\n",
    "            yb_norm = yb/torch.linalg.norm(yb, dim=1, keepdim=True)\n",
    "            #print(\"yb\", yb_norm.shape)\n",
    "            for k in range(num_model):\n",
    "                pred = nets[k](xb)\n",
    "                #print(\"pred\", pred.shape)\n",
    "                pred_norm = pred/torch.linalg.norm(pred, dim=1, keepdim=True)\n",
    "                fit_orth = torch.matmul(yb_norm.unsqueeze(dim=1), pred_norm.unsqueeze(dim=2))\n",
    "                #print(fit_orth.shape)\n",
    "                fitloss_ =  torch.mean(torch.abs(fit_orth)**loss_pow)\n",
    "                #fitloss_each.append(fitloss_.detach().numpy())\n",
    "                fitloss = fitloss + fitloss_\n",
    "                fitlosses.append(fitloss_.item())\n",
    "                H_ = nets[k].h_z(xb)\n",
    "                dhi = pred_norm\n",
    "\n",
    "                if k == 0:\n",
    "                    H = H_\n",
    "                    dH = dhi.unsqueeze(dim=0)\n",
    "\n",
    "                else:\n",
    "                    H = torch.cat((H,H_), dim=1)\n",
    "                    dH = torch.cat([dH,dhi.unsqueeze(dim=0)])\n",
    "\n",
    "            fitloss = fitloss/num_model\n",
    "            # correlation loss\n",
    "            H = torch.transpose(H,0,1)\n",
    "            # dH.shape = (bs, num_model, z_dim)\n",
    "            dH = torch.transpose(dH,0,1)\n",
    "\n",
    "            # SVD dH\n",
    "            u, s, v = torch.svd(dH)\n",
    "            exp_ratio = s**2/torch.sum(s**2, dim=1,keepdim=True)\n",
    "            exp_av = torch.mean(exp_ratio,dim=0)\n",
    "\n",
    "            # H regularization\n",
    "            corr_mat = torch.corrcoef(H)\n",
    "            if num_model == 1:\n",
    "                reg_H = torch.tensor(0., dtype=torch.float)\n",
    "            else:\n",
    "                reg_H = (torch.sum(corr_mat**loss_pow)-num_model)/(num_model*(num_model-1))\n",
    "\n",
    "            orth_mat = torch.mean(torch.abs(torch.matmul(dH, torch.transpose(dH,1,2)))**loss_pow, dim=0)\n",
    "            #print(orth_mat)\n",
    "            if num_model == 1:\n",
    "                reg_dH = torch.tensor(0., dtype=torch.float)\n",
    "            else:\n",
    "                reg_dH = (torch.sum(orth_mat)-num_model)/(num_model*(num_model-1))\n",
    "\n",
    "            loss = fitloss + lamb_H*reg_H + lamb_dH*reg_dH\n",
    "\n",
    "            loss.backward()\n",
    "            optimizer.step()   \n",
    "\n",
    "            optimizer.zero_grad()\n",
    "\n",
    "            losses.append(loss.item())\n",
    "            losses_fit.append(fitloss.item())\n",
    "            losses_reg.append(reg_dH.item())\n",
    "            #print(loss.item(), fitloss.item(), reg_dH.item())\n",
    "\n",
    "        # Best epoch loss (save best only)\n",
    "        if (loss<epoch_loss):\n",
    "            epoch_loss = loss\n",
    "            epoch_best = epoch\n",
    "            fit_loss_best = fitloss\n",
    "            fit_losses_best = fitlosses\n",
    "            reg_loss_best = reg_dH\n",
    "            #print(\"Saving model at epoch {}, current best epoch loss = {}\".format(epoch, epoch_loss))\n",
    "            for k in range(num_model):\n",
    "                torch.save(nets[k].state_dict(), \"./results/\"+folder+\"/{}.pt\".format(k))\n",
    "            np.save(\"./results/\"+folder+\"/fit_loss.npy\", fitlosses)\n",
    "            np.save(\"./results/\"+folder+\"/dH_explained.npy\", exp_av.detach().numpy())\n",
    "\n",
    "        # Early Stopping\n",
    "        #if ((loss<es_delta) or abs(epoch_loss-loss)>max_loss_divergence):\n",
    "        #    break\n",
    "\n",
    "        # Print loss\n",
    "        if ((epoch+1)%10==0):\n",
    "            print(\"Epoch {}\".format(epoch+1))\n",
    "            print(fitloss.item())\n",
    "            #print(fitlosses)\n",
    "            #print(corr_mat)\n",
    "            #print(reg_H.item())\n",
    "            #print(orth_mat)\n",
    "            print(reg_dH.item())\n",
    "            #print(exp_av)\n",
    "\n",
    "    plt.plot(losses)\n",
    "    plt.plot(losses_fit)\n",
    "    plt.plot(losses_reg)\n",
    "    plt.yscale('log')\n",
    "\n",
    "    print(\"Best epoch = {}\".format(epoch_best))\n",
    "    print(\"Best loss = {}\".format(epoch_loss))\n",
    "    print(\"Fit loss = {}\".format(fit_loss_best))\n",
    "    print(\"Fit losses = {}\")\n",
    "    print(fit_losses)\n",
    "    df = po.DataFrame()\n",
    "    df['losses'] = losses\n",
    "\n",
    "    return losses, fit_loss_best.detach().numpy(), reg_loss_best.detach().numpy()\n",
    "\n",
    "\n",
    "for i in range(num_model):\n",
    "    nets.append(Hnet(z_dim=4, w=400))\n",
    "\n",
    "\n",
    "for lamb in lambs:\n",
    "    print(\"lamb={}\".format(lamb))\n",
    "    loss, fit_best, reg_best = train(nets, f_z, z, lr=1e-3, epochs=1000) \n",
    "    best_losses.append(fit_best)\n",
    "    best_regs.append(reg_best)"
   ]
  },
  {
   "cell_type": "code",
   "execution_count": 30,
   "metadata": {},
   "outputs": [
    {
     "name": "stderr",
     "output_type": "stream",
     "text": [
      "/home/luke/anaconda3/envs/zimingenv/lib/python3.6/site-packages/ipykernel_launcher.py:7: UserWarning: Attempted to set non-positive bottom ylim on a log-scaled axis.\n",
      "Invalid limit will be ignored.\n",
      "  import sys\n"
     ]
    },
    {
     "data": {
      "text/plain": [
       "(5.757693509720421e-08, 1.5)"
      ]
     },
     "execution_count": 30,
     "metadata": {},
     "output_type": "execute_result"
    },
    {
     "data": {
      "image/png": "[encoded data removed]",
      "text/plain": [
       "<Figure size 432x288 with 1 Axes>"
      ]
     },
     "metadata": {
      "needs_background": "light"
     },
     "output_type": "display_data"
    }
   ],
   "source": [
    "plt.plot(lambs, best_losses, marker=\"o\")\n",
    "plt.plot(lambs, best_regs, marker=\"o\")\n",
    "plt.xscale('log')\n",
    "plt.yscale('log')\n",
    "plt.xlabel(r'$\\lambda$',fontsize=15)\n",
    "plt.ylabel('MSE Loss', fontsize=15)\n",
    "plt.ylim(-0.01,1.5)"
   ]
  },
  {
   "cell_type": "code",
   "execution_count": 31,
   "metadata": {},
   "outputs": [],
   "source": [
    "np.save('./results/lambda_search_2dho_1.npy', np.array([lambs, best_losses, best_regs]))"
   ]
  },
  {
   "cell_type": "code",
   "execution_count": 36,
   "metadata": {},
   "outputs": [
    {
     "data": {
      "image/png": "[encoded data removed]",
      "text/plain": [
       "<Figure size 864x288 with 2 Axes>"
      ]
     },
     "metadata": {
      "needs_background": "light"
     },
     "output_type": "display_data"
    }
   ],
   "source": [
    "plt.figure(figsize=(12,4))\n",
    "\n",
    "plt.subplot(1,2,1)\n",
    "\n",
    "data = np.load('./results/lambda_search_2dho_1.npy')\n",
    "lambs = data[0]\n",
    "best_losses = data[1]\n",
    "best_regs = data[2]\n",
    "\n",
    "plt.plot(lambs, best_losses, marker=\"o\")\n",
    "plt.plot(lambs, best_regs, marker=\"o\")\n",
    "plt.xscale('log')\n",
    "#plt.yscale('log')\n",
    "plt.xlabel(r'$\\lambda$',fontsize=15)\n",
    "plt.ylabel('Loss', fontsize=15)\n",
    "plt.legend([r\"$\\ell_1$\", r\"$\\ell_2$\"], fontsize=15, loc=\"upper right\")\n",
    "plt.ylim(-0.01,0.4)\n",
    "plt.title(r\"$(\\omega_x,\\omega_y)=(1,1)$\", fontsize=15)\n",
    "\n",
    "\n",
    "plt.subplot(1,2,2)\n",
    "\n",
    "data = np.load('./results/lambda_search_2dho_sqrt2.npy')\n",
    "lambs = data[0]\n",
    "best_losses = data[1]\n",
    "best_regs = data[2]\n",
    "\n",
    "plt.plot(lambs, best_losses, marker=\"o\")\n",
    "plt.plot(lambs, best_regs, marker=\"o\")\n",
    "plt.xscale('log')\n",
    "#plt.yscale('log')\n",
    "plt.xlabel(r'$\\lambda$',fontsize=15)\n",
    "plt.ylabel('Loss', fontsize=15)\n",
    "#plt.legend([r\"$\\ell_1$\", r\"$\\ell_2$\"], fontsize=15, loc=\"upper right\")\n",
    "plt.ylim(-0.01,0.4)\n",
    "plt.title(r\"$(\\omega_x,\\omega_y)=(1,\\sqrt{2})$\", fontsize=15)\n",
    "plt.savefig('./2d_ho_lamb_pt.pdf', bbox_inches=\"tight\")"
   ]
  },
  {
   "cell_type": "code",
   "execution_count": null,
   "metadata": {},
   "outputs": [],
   "source": []
  }
 ],
 "metadata": {
  "kernelspec": {
   "display_name": "Python 3",
   "language": "python",
   "name": "python3"
  },
  "language_info": {
   "codemirror_mode": {
    "name": "ipython",
    "version": 3
   },
   "file_extension": ".py",
   "mimetype": "text/x-python",
   "name": "python",
   "nbconvert_exporter": "python",
   "pygments_lexer": "ipython3",
   "version": "3.6.10"
  }
 },
 "nbformat": 4,
 "nbformat_minor": 4
}
