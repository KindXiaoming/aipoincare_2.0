{
 "cells": [
  {
   "cell_type": "code",
   "execution_count": 7,
   "metadata": {},
   "outputs": [
    {
     "name": "stderr",
     "output_type": "stream",
     "text": [
      "\r",
      "  0%|          | 0/1000 [00:00<?, ?it/s]"
     ]
    },
    {
     "name": "stdout",
     "output_type": "stream",
     "text": [
      "lamb=0.5\n"
     ]
    },
    {
     "name": "stderr",
     "output_type": "stream",
     "text": [
      "  1%|          | 10/1000 [00:06<12:18,  1.34it/s]"
     ]
    },
    {
     "name": "stdout",
     "output_type": "stream",
     "text": [
      "Epoch 10\n",
      "0.15198801457881927\n",
      "0.0906670093536377\n"
     ]
    },
    {
     "name": "stderr",
     "output_type": "stream",
     "text": [
      "  2%|▏         | 20/1000 [00:16<16:11,  1.01it/s]"
     ]
    },
    {
     "name": "stdout",
     "output_type": "stream",
     "text": [
      "Epoch 20\n",
      "0.017637260258197784\n",
      "0.1458733081817627\n"
     ]
    },
    {
     "name": "stderr",
     "output_type": "stream",
     "text": [
      "  3%|▎         | 30/1000 [00:25<16:27,  1.02s/it]"
     ]
    },
    {
     "name": "stdout",
     "output_type": "stream",
     "text": [
      "Epoch 30\n",
      "0.006589417811483145\n",
      "0.11935325711965561\n"
     ]
    },
    {
     "name": "stderr",
     "output_type": "stream",
     "text": [
      "  4%|▍         | 40/1000 [00:37<17:32,  1.10s/it]"
     ]
    },
    {
     "name": "stdout",
     "output_type": "stream",
     "text": [
      "Epoch 40\n",
      "0.005508915055543184\n",
      "0.11434408277273178\n"
     ]
    },
    {
     "name": "stderr",
     "output_type": "stream",
     "text": [
      "  5%|▌         | 50/1000 [00:46<13:03,  1.21it/s]"
     ]
    },
    {
     "name": "stdout",
     "output_type": "stream",
     "text": [
      "Epoch 50\n",
      "0.005319340620189905\n",
      "0.11454185098409653\n"
     ]
    },
    {
     "name": "stderr",
     "output_type": "stream",
     "text": [
      "  6%|▌         | 60/1000 [00:54<12:24,  1.26it/s]"
     ]
    },
    {
     "name": "stdout",
     "output_type": "stream",
     "text": [
      "Epoch 60\n",
      "0.004968306981027126\n",
      "0.11393824964761734\n"
     ]
    },
    {
     "name": "stderr",
     "output_type": "stream",
     "text": [
      "  7%|▋         | 70/1000 [01:02<13:04,  1.19it/s]"
     ]
    },
    {
     "name": "stdout",
     "output_type": "stream",
     "text": [
      "Epoch 70\n",
      "0.004989122971892357\n",
      "0.11350882053375244\n"
     ]
    },
    {
     "name": "stderr",
     "output_type": "stream",
     "text": [
      "  8%|▊         | 80/1000 [01:11<14:08,  1.08it/s]"
     ]
    },
    {
     "name": "stdout",
     "output_type": "stream",
     "text": [
      "Epoch 80\n",
      "0.0053191836923360825\n",
      "0.11381462961435318\n"
     ]
    },
    {
     "name": "stderr",
     "output_type": "stream",
     "text": [
      "  9%|▉         | 90/1000 [01:20<12:51,  1.18it/s]"
     ]
    },
    {
     "name": "stdout",
     "output_type": "stream",
     "text": [
      "Epoch 90\n",
      "0.004973285365849733\n",
      "0.1135772094130516\n"
     ]
    },
    {
     "name": "stderr",
     "output_type": "stream",
     "text": [
      " 10%|█         | 100/1000 [01:29<12:41,  1.18it/s]"
     ]
    },
    {
     "name": "stdout",
     "output_type": "stream",
     "text": [
      "Epoch 100\n",
      "0.0052370838820934296\n",
      "0.11317634582519531\n"
     ]
    },
    {
     "name": "stderr",
     "output_type": "stream",
     "text": [
      " 11%|█         | 110/1000 [01:37<12:29,  1.19it/s]"
     ]
    },
    {
     "name": "stdout",
     "output_type": "stream",
     "text": [
      "Epoch 110\n",
      "0.0049190642312169075\n",
      "0.11366593837738037\n"
     ]
    },
    {
     "name": "stderr",
     "output_type": "stream",
     "text": [
      " 12%|█▏        | 120/1000 [01:45<12:27,  1.18it/s]"
     ]
    },
    {
     "name": "stdout",
     "output_type": "stream",
     "text": [
      "Epoch 120\n",
      "0.004603519570082426\n",
      "0.11337566375732422\n"
     ]
    },
    {
     "name": "stderr",
     "output_type": "stream",
     "text": [
      " 13%|█▎        | 130/1000 [01:54<12:17,  1.18it/s]"
     ]
    },
    {
     "name": "stdout",
     "output_type": "stream",
     "text": [
      "Epoch 130\n",
      "0.00448223389685154\n",
      "0.11325367540121078\n"
     ]
    },
    {
     "name": "stderr",
     "output_type": "stream",
     "text": [
      " 14%|█▍        | 140/1000 [02:03<12:20,  1.16it/s]"
     ]
    },
    {
     "name": "stdout",
     "output_type": "stream",
     "text": [
      "Epoch 140\n",
      "0.004904020112007856\n",
      "0.11355332285165787\n"
     ]
    },
    {
     "name": "stderr",
     "output_type": "stream",
     "text": [
      " 15%|█▌        | 150/1000 [02:11<12:13,  1.16it/s]"
     ]
    },
    {
     "name": "stdout",
     "output_type": "stream",
     "text": [
      "Epoch 150\n",
      "0.004485038574784994\n",
      "0.11278212070465088\n"
     ]
    },
    {
     "name": "stderr",
     "output_type": "stream",
     "text": [
      " 16%|█▌        | 160/1000 [02:20<12:13,  1.14it/s]"
     ]
    },
    {
     "name": "stdout",
     "output_type": "stream",
     "text": [
      "Epoch 160\n",
      "0.003638108493760228\n",
      "0.11287093162536621\n"
     ]
    },
    {
     "name": "stderr",
     "output_type": "stream",
     "text": [
      " 17%|█▋        | 170/1000 [02:29<11:32,  1.20it/s]"
     ]
    },
    {
     "name": "stdout",
     "output_type": "stream",
     "text": [
      "Epoch 170\n",
      "0.003588224994018674\n",
      "0.11323082447052002\n"
     ]
    },
    {
     "name": "stderr",
     "output_type": "stream",
     "text": [
      " 18%|█▊        | 180/1000 [02:37<11:03,  1.24it/s]"
     ]
    },
    {
     "name": "stdout",
     "output_type": "stream",
     "text": [
      "Epoch 180\n",
      "0.004503647796809673\n",
      "0.1131337508559227\n"
     ]
    },
    {
     "name": "stderr",
     "output_type": "stream",
     "text": [
      " 19%|█▉        | 190/1000 [02:45<11:19,  1.19it/s]"
     ]
    },
    {
     "name": "stdout",
     "output_type": "stream",
     "text": [
      "Epoch 190\n",
      "0.0047651175409555435\n",
      "0.1132880449295044\n"
     ]
    },
    {
     "name": "stderr",
     "output_type": "stream",
     "text": [
      " 20%|██        | 200/1000 [02:53<10:41,  1.25it/s]"
     ]
    },
    {
     "name": "stdout",
     "output_type": "stream",
     "text": [
      "Epoch 200\n",
      "0.005567531101405621\n",
      "0.11326861381530762\n"
     ]
    },
    {
     "name": "stderr",
     "output_type": "stream",
     "text": [
      " 21%|██        | 210/1000 [03:02<11:51,  1.11it/s]"
     ]
    },
    {
     "name": "stdout",
     "output_type": "stream",
     "text": [
      "Epoch 210\n",
      "0.004300178959965706\n",
      "0.11331220716238022\n"
     ]
    },
    {
     "name": "stderr",
     "output_type": "stream",
     "text": [
      " 22%|██▏       | 220/1000 [03:10<10:47,  1.21it/s]"
     ]
    },
    {
     "name": "stdout",
     "output_type": "stream",
     "text": [
      "Epoch 220\n",
      "0.0038345009088516235\n",
      "0.11298330873250961\n"
     ]
    },
    {
     "name": "stderr",
     "output_type": "stream",
     "text": [
      " 23%|██▎       | 230/1000 [03:18<09:32,  1.35it/s]"
     ]
    },
    {
     "name": "stdout",
     "output_type": "stream",
     "text": [
      "Epoch 230\n",
      "0.004381873644888401\n",
      "0.11295255273580551\n"
     ]
    },
    {
     "name": "stderr",
     "output_type": "stream",
     "text": [
      " 24%|██▍       | 240/1000 [03:25<09:46,  1.30it/s]"
     ]
    },
    {
     "name": "stdout",
     "output_type": "stream",
     "text": [
      "Epoch 240\n",
      "0.003974944818764925\n",
      "0.1127576008439064\n"
     ]
    },
    {
     "name": "stderr",
     "output_type": "stream",
     "text": [
      " 25%|██▌       | 250/1000 [03:33<09:53,  1.26it/s]"
     ]
    },
    {
     "name": "stdout",
     "output_type": "stream",
     "text": [
      "Epoch 250\n",
      "0.004345451015979052\n",
      "0.11312154680490494\n"
     ]
    },
    {
     "name": "stderr",
     "output_type": "stream",
     "text": [
      " 26%|██▌       | 260/1000 [03:41<09:39,  1.28it/s]"
     ]
    },
    {
     "name": "stdout",
     "output_type": "stream",
     "text": [
      "Epoch 260\n",
      "0.003679444082081318\n",
      "0.1130731925368309\n"
     ]
    },
    {
     "name": "stderr",
     "output_type": "stream",
     "text": [
      " 27%|██▋       | 270/1000 [03:49<09:28,  1.28it/s]"
     ]
    },
    {
     "name": "stdout",
     "output_type": "stream",
     "text": [
      "Epoch 270\n",
      "0.0033675848972052336\n",
      "0.11314848810434341\n"
     ]
    },
    {
     "name": "stderr",
     "output_type": "stream",
     "text": [
      " 28%|██▊       | 280/1000 [03:56<09:03,  1.32it/s]"
     ]
    },
    {
     "name": "stdout",
     "output_type": "stream",
     "text": [
      "Epoch 280\n",
      "0.0036782980896532536\n",
      "0.11320463567972183\n"
     ]
    },
    {
     "name": "stderr",
     "output_type": "stream",
     "text": [
      " 29%|██▉       | 290/1000 [04:04<08:43,  1.36it/s]"
     ]
    },
    {
     "name": "stdout",
     "output_type": "stream",
     "text": [
      "Epoch 290\n",
      "0.004790853708982468\n",
      "0.11314737796783447\n"
     ]
    },
    {
     "name": "stderr",
     "output_type": "stream",
     "text": [
      " 30%|███       | 300/1000 [04:11<08:03,  1.45it/s]"
     ]
    },
    {
     "name": "stdout",
     "output_type": "stream",
     "text": [
      "Epoch 300\n",
      "0.004020862281322479\n",
      "0.11298958212137222\n"
     ]
    },
    {
     "name": "stderr",
     "output_type": "stream",
     "text": [
      " 31%|███       | 310/1000 [04:18<08:43,  1.32it/s]"
     ]
    },
    {
     "name": "stdout",
     "output_type": "stream",
     "text": [
      "Epoch 310\n",
      "0.004026705399155617\n",
      "0.11311992257833481\n"
     ]
    },
    {
     "name": "stderr",
     "output_type": "stream",
     "text": [
      " 32%|███▏      | 320/1000 [04:26<08:44,  1.30it/s]"
     ]
    },
    {
     "name": "stdout",
     "output_type": "stream",
     "text": [
      "Epoch 320\n",
      "0.003300139680504799\n",
      "0.1129615306854248\n"
     ]
    },
    {
     "name": "stderr",
     "output_type": "stream",
     "text": [
      " 33%|███▎      | 330/1000 [04:33<08:23,  1.33it/s]"
     ]
    },
    {
     "name": "stdout",
     "output_type": "stream",
     "text": [
      "Epoch 330\n",
      "0.0036565447226166725\n",
      "0.1127454861998558\n"
     ]
    },
    {
     "name": "stderr",
     "output_type": "stream",
     "text": [
      " 34%|███▍      | 340/1000 [04:41<08:13,  1.34it/s]"
     ]
    },
    {
     "name": "stdout",
     "output_type": "stream",
     "text": [
      "Epoch 340\n",
      "0.0035195183008909225\n",
      "0.11289894580841064\n"
     ]
    },
    {
     "name": "stderr",
     "output_type": "stream",
     "text": [
      " 35%|███▌      | 350/1000 [04:48<07:48,  1.39it/s]"
     ]
    },
    {
     "name": "stdout",
     "output_type": "stream",
     "text": [
      "Epoch 350\n",
      "0.0038516174536198378\n",
      "0.11287879943847656\n"
     ]
    },
    {
     "name": "stderr",
     "output_type": "stream",
     "text": [
      " 36%|███▌      | 360/1000 [04:56<08:35,  1.24it/s]"
     ]
    },
    {
     "name": "stdout",
     "output_type": "stream",
     "text": [
      "Epoch 360\n",
      "0.003956026863306761\n",
      "0.11329952627420425\n"
     ]
    },
    {
     "name": "stderr",
     "output_type": "stream",
     "text": [
      " 37%|███▋      | 370/1000 [05:04<08:22,  1.25it/s]"
     ]
    },
    {
     "name": "stdout",
     "output_type": "stream",
     "text": [
      "Epoch 370\n",
      "0.003102567046880722\n",
      "0.11326718330383301\n"
     ]
    },
    {
     "name": "stderr",
     "output_type": "stream",
     "text": [
      " 38%|███▊      | 380/1000 [05:12<07:42,  1.34it/s]"
     ]
    },
    {
     "name": "stdout",
     "output_type": "stream",
     "text": [
      "Epoch 380\n",
      "0.004007498733699322\n",
      "0.11291813850402832\n"
     ]
    },
    {
     "name": "stderr",
     "output_type": "stream",
     "text": [
      " 39%|███▉      | 390/1000 [05:20<08:33,  1.19it/s]"
     ]
    },
    {
     "name": "stdout",
     "output_type": "stream",
     "text": [
      "Epoch 390\n",
      "0.003684153314679861\n",
      "0.11313541978597641\n"
     ]
    },
    {
     "name": "stderr",
     "output_type": "stream",
     "text": [
      " 40%|████      | 400/1000 [05:28<07:59,  1.25it/s]"
     ]
    },
    {
     "name": "stdout",
     "output_type": "stream",
     "text": [
      "Epoch 400\n",
      "0.0031093815341591835\n",
      "0.11293844133615494\n"
     ]
    },
    {
     "name": "stderr",
     "output_type": "stream",
     "text": [
      " 41%|████      | 410/1000 [05:37<09:03,  1.09it/s]"
     ]
    },
    {
     "name": "stdout",
     "output_type": "stream",
     "text": [
      "Epoch 410\n",
      "0.003862618701532483\n",
      "0.11269569396972656\n"
     ]
    },
    {
     "name": "stderr",
     "output_type": "stream",
     "text": [
      " 42%|████▏     | 420/1000 [05:45<08:15,  1.17it/s]"
     ]
    },
    {
     "name": "stdout",
     "output_type": "stream",
     "text": [
      "Epoch 420\n",
      "0.0032063720282167196\n",
      "0.11275875568389893\n"
     ]
    },
    {
     "name": "stderr",
     "output_type": "stream",
     "text": [
      " 43%|████▎     | 430/1000 [05:54<08:06,  1.17it/s]"
     ]
    },
    {
     "name": "stdout",
     "output_type": "stream",
     "text": [
      "Epoch 430\n",
      "0.0034325795713812113\n",
      "0.11291269212961197\n"
     ]
    },
    {
     "name": "stderr",
     "output_type": "stream",
     "text": [
      " 44%|████▍     | 440/1000 [06:03<08:16,  1.13it/s]"
     ]
    },
    {
     "name": "stdout",
     "output_type": "stream",
     "text": [
      "Epoch 440\n",
      "0.0038326282519847155\n",
      "0.1128549575805664\n"
     ]
    },
    {
     "name": "stderr",
     "output_type": "stream",
     "text": [
      " 45%|████▌     | 450/1000 [06:12<07:15,  1.26it/s]"
     ]
    },
    {
     "name": "stdout",
     "output_type": "stream",
     "text": [
      "Epoch 450\n",
      "0.0033458960242569447\n",
      "0.11312250047922134\n"
     ]
    },
    {
     "name": "stderr",
     "output_type": "stream",
     "text": [
      " 46%|████▌     | 460/1000 [06:20<07:38,  1.18it/s]"
     ]
    },
    {
     "name": "stdout",
     "output_type": "stream",
     "text": [
      "Epoch 460\n",
      "0.0032688044011592865\n",
      "0.1130598783493042\n"
     ]
    },
    {
     "name": "stderr",
     "output_type": "stream",
     "text": [
      " 47%|████▋     | 470/1000 [06:29<07:41,  1.15it/s]"
     ]
    },
    {
     "name": "stdout",
     "output_type": "stream",
     "text": [
      "Epoch 470\n",
      "0.0031155813485383987\n",
      "0.11345585435628891\n"
     ]
    },
    {
     "name": "stderr",
     "output_type": "stream",
     "text": [
      " 48%|████▊     | 480/1000 [06:37<06:57,  1.25it/s]"
     ]
    },
    {
     "name": "stdout",
     "output_type": "stream",
     "text": [
      "Epoch 480\n",
      "0.0031493986025452614\n",
      "0.11277023702859879\n"
     ]
    },
    {
     "name": "stderr",
     "output_type": "stream",
     "text": [
      " 49%|████▉     | 490/1000 [06:45<07:17,  1.17it/s]"
     ]
    },
    {
     "name": "stdout",
     "output_type": "stream",
     "text": [
      "Epoch 490\n",
      "0.0026343788485974073\n",
      "0.11261097341775894\n"
     ]
    },
    {
     "name": "stderr",
     "output_type": "stream",
     "text": [
      " 50%|█████     | 500/1000 [06:53<07:03,  1.18it/s]"
     ]
    },
    {
     "name": "stdout",
     "output_type": "stream",
     "text": [
      "Epoch 500\n",
      "0.0025801563169807196\n",
      "0.11283501237630844\n"
     ]
    },
    {
     "name": "stderr",
     "output_type": "stream",
     "text": [
      " 51%|█████     | 510/1000 [07:01<06:48,  1.20it/s]"
     ]
    },
    {
     "name": "stdout",
     "output_type": "stream",
     "text": [
      "Epoch 510\n",
      "0.0026913112960755825\n",
      "0.11305300146341324\n"
     ]
    },
    {
     "name": "stderr",
     "output_type": "stream",
     "text": [
      " 52%|█████▏    | 520/1000 [07:10<06:25,  1.25it/s]"
     ]
    },
    {
     "name": "stdout",
     "output_type": "stream",
     "text": [
      "Epoch 520\n",
      "0.003156038234010339\n",
      "0.11333449929952621\n"
     ]
    },
    {
     "name": "stderr",
     "output_type": "stream",
     "text": [
      " 53%|█████▎    | 530/1000 [07:18<06:40,  1.17it/s]"
     ]
    },
    {
     "name": "stdout",
     "output_type": "stream",
     "text": [
      "Epoch 530\n",
      "0.002196424175053835\n",
      "0.11253329366445541\n"
     ]
    },
    {
     "name": "stderr",
     "output_type": "stream",
     "text": [
      " 54%|█████▍    | 540/1000 [07:26<06:37,  1.16it/s]"
     ]
    },
    {
     "name": "stdout",
     "output_type": "stream",
     "text": [
      "Epoch 540\n",
      "0.0026764394715428352\n",
      "0.11278820037841797\n"
     ]
    },
    {
     "name": "stderr",
     "output_type": "stream",
     "text": [
      " 55%|█████▌    | 550/1000 [07:34<06:03,  1.24it/s]"
     ]
    },
    {
     "name": "stdout",
     "output_type": "stream",
     "text": [
      "Epoch 550\n",
      "0.002681225771084428\n",
      "0.11301735788583755\n"
     ]
    },
    {
     "name": "stderr",
     "output_type": "stream",
     "text": [
      " 56%|█████▌    | 560/1000 [07:42<05:51,  1.25it/s]"
     ]
    },
    {
     "name": "stdout",
     "output_type": "stream",
     "text": [
      "Epoch 560\n",
      "0.0033897380344569683\n",
      "0.11282515525817871\n"
     ]
    },
    {
     "name": "stderr",
     "output_type": "stream",
     "text": [
      " 57%|█████▋    | 570/1000 [07:51<05:34,  1.28it/s]"
     ]
    },
    {
     "name": "stdout",
     "output_type": "stream",
     "text": [
      "Epoch 570\n",
      "0.0030650044791400433\n",
      "0.11245683580636978\n"
     ]
    },
    {
     "name": "stderr",
     "output_type": "stream",
     "text": [
      " 58%|█████▊    | 580/1000 [07:59<05:34,  1.25it/s]"
     ]
    },
    {
     "name": "stdout",
     "output_type": "stream",
     "text": [
      "Epoch 580\n",
      "0.002705823630094528\n",
      "0.11307668685913086\n"
     ]
    },
    {
     "name": "stderr",
     "output_type": "stream",
     "text": [
      " 59%|█████▉    | 590/1000 [08:07<05:20,  1.28it/s]"
     ]
    },
    {
     "name": "stdout",
     "output_type": "stream",
     "text": [
      "Epoch 590\n",
      "0.0029524986166507006\n",
      "0.11292513459920883\n"
     ]
    },
    {
     "name": "stderr",
     "output_type": "stream",
     "text": [
      " 60%|██████    | 600/1000 [08:15<05:43,  1.16it/s]"
     ]
    },
    {
     "name": "stdout",
     "output_type": "stream",
     "text": [
      "Epoch 600\n",
      "0.002793476451188326\n",
      "0.11277500540018082\n"
     ]
    },
    {
     "name": "stderr",
     "output_type": "stream",
     "text": [
      " 61%|██████    | 610/1000 [08:23<05:32,  1.17it/s]"
     ]
    },
    {
     "name": "stdout",
     "output_type": "stream",
     "text": [
      "Epoch 610\n",
      "0.0031262573320418596\n",
      "0.11298616975545883\n"
     ]
    },
    {
     "name": "stderr",
     "output_type": "stream",
     "text": [
      " 62%|██████▏   | 620/1000 [08:32<05:21,  1.18it/s]"
     ]
    },
    {
     "name": "stdout",
     "output_type": "stream",
     "text": [
      "Epoch 620\n",
      "0.0027009861078113317\n",
      "0.11286822706460953\n"
     ]
    },
    {
     "name": "stderr",
     "output_type": "stream",
     "text": [
      " 63%|██████▎   | 630/1000 [08:40<04:47,  1.29it/s]"
     ]
    },
    {
     "name": "stdout",
     "output_type": "stream",
     "text": [
      "Epoch 630\n",
      "0.0021637643221765757\n",
      "0.11317507177591324\n"
     ]
    },
    {
     "name": "stderr",
     "output_type": "stream",
     "text": [
      " 64%|██████▍   | 640/1000 [08:48<05:01,  1.20it/s]"
     ]
    },
    {
     "name": "stdout",
     "output_type": "stream",
     "text": [
      "Epoch 640\n",
      "0.002394789597019553\n",
      "0.11253905296325684\n"
     ]
    },
    {
     "name": "stderr",
     "output_type": "stream",
     "text": [
      " 65%|██████▌   | 650/1000 [08:56<04:47,  1.22it/s]"
     ]
    },
    {
     "name": "stdout",
     "output_type": "stream",
     "text": [
      "Epoch 650\n",
      "0.0031640976667404175\n",
      "0.11291225999593735\n"
     ]
    },
    {
     "name": "stderr",
     "output_type": "stream",
     "text": [
      " 66%|██████▌   | 660/1000 [09:04<04:37,  1.22it/s]"
     ]
    },
    {
     "name": "stdout",
     "output_type": "stream",
     "text": [
      "Epoch 660\n",
      "0.002429272048175335\n",
      "0.11270169168710709\n"
     ]
    },
    {
     "name": "stderr",
     "output_type": "stream",
     "text": [
      " 67%|██████▋   | 670/1000 [09:13<04:41,  1.17it/s]"
     ]
    },
    {
     "name": "stdout",
     "output_type": "stream",
     "text": [
      "Epoch 670\n",
      "0.002339503960683942\n",
      "0.11265019327402115\n"
     ]
    },
    {
     "name": "stderr",
     "output_type": "stream",
     "text": [
      " 68%|██████▊   | 680/1000 [09:21<04:24,  1.21it/s]"
     ]
    },
    {
     "name": "stdout",
     "output_type": "stream",
     "text": [
      "Epoch 680\n",
      "0.0022979634813964367\n",
      "0.11279841512441635\n"
     ]
    },
    {
     "name": "stderr",
     "output_type": "stream",
     "text": [
      " 69%|██████▉   | 690/1000 [09:29<04:17,  1.21it/s]"
     ]
    },
    {
     "name": "stdout",
     "output_type": "stream",
     "text": [
      "Epoch 690\n",
      "0.0023666166234761477\n",
      "0.11261578649282455\n"
     ]
    },
    {
     "name": "stderr",
     "output_type": "stream",
     "text": [
      " 70%|███████   | 700/1000 [09:38<04:37,  1.08it/s]"
     ]
    },
    {
     "name": "stdout",
     "output_type": "stream",
     "text": [
      "Epoch 700\n",
      "0.001977029722183943\n",
      "0.11277854442596436\n"
     ]
    },
    {
     "name": "stderr",
     "output_type": "stream",
     "text": [
      " 71%|███████   | 710/1000 [09:47<04:22,  1.10it/s]"
     ]
    },
    {
     "name": "stdout",
     "output_type": "stream",
     "text": [
      "Epoch 710\n",
      "0.002116308081895113\n",
      "0.11252427101135254\n"
     ]
    },
    {
     "name": "stderr",
     "output_type": "stream",
     "text": [
      " 72%|███████▏  | 720/1000 [09:56<04:21,  1.07it/s]"
     ]
    },
    {
     "name": "stdout",
     "output_type": "stream",
     "text": [
      "Epoch 720\n",
      "0.0019840598106384277\n",
      "0.11271484941244125\n"
     ]
    },
    {
     "name": "stderr",
     "output_type": "stream",
     "text": [
      " 73%|███████▎  | 730/1000 [10:05<04:00,  1.12it/s]"
     ]
    },
    {
     "name": "stdout",
     "output_type": "stream",
     "text": [
      "Epoch 730\n",
      "0.0018597303424030542\n",
      "0.11242619901895523\n"
     ]
    },
    {
     "name": "stderr",
     "output_type": "stream",
     "text": [
      " 74%|███████▍  | 740/1000 [10:15<04:09,  1.04it/s]"
     ]
    },
    {
     "name": "stdout",
     "output_type": "stream",
     "text": [
      "Epoch 740\n",
      "0.0020507206209003925\n",
      "0.11259933561086655\n"
     ]
    },
    {
     "name": "stderr",
     "output_type": "stream",
     "text": [
      " 75%|███████▌  | 750/1000 [10:23<03:29,  1.20it/s]"
     ]
    },
    {
     "name": "stdout",
     "output_type": "stream",
     "text": [
      "Epoch 750\n",
      "0.001954971579834819\n",
      "0.11243128776550293\n"
     ]
    },
    {
     "name": "stderr",
     "output_type": "stream",
     "text": [
      " 76%|███████▌  | 760/1000 [10:31<03:10,  1.26it/s]"
     ]
    },
    {
     "name": "stdout",
     "output_type": "stream",
     "text": [
      "Epoch 760\n",
      "0.0017664122860878706\n",
      "0.1126694306731224\n"
     ]
    },
    {
     "name": "stderr",
     "output_type": "stream",
     "text": [
      " 77%|███████▋  | 770/1000 [10:38<02:55,  1.31it/s]"
     ]
    },
    {
     "name": "stdout",
     "output_type": "stream",
     "text": [
      "Epoch 770\n",
      "0.0018987422809004784\n",
      "0.11272069066762924\n"
     ]
    },
    {
     "name": "stderr",
     "output_type": "stream",
     "text": [
      " 78%|███████▊  | 780/1000 [10:46<02:50,  1.29it/s]"
     ]
    },
    {
     "name": "stdout",
     "output_type": "stream",
     "text": [
      "Epoch 780\n",
      "0.0019315051613375545\n",
      "0.11243247985839844\n"
     ]
    },
    {
     "name": "stderr",
     "output_type": "stream",
     "text": [
      " 79%|███████▉  | 790/1000 [10:54<02:44,  1.27it/s]"
     ]
    },
    {
     "name": "stdout",
     "output_type": "stream",
     "text": [
      "Epoch 790\n",
      "0.001644554198719561\n",
      "0.11234307289123535\n"
     ]
    },
    {
     "name": "stderr",
     "output_type": "stream",
     "text": [
      " 80%|████████  | 800/1000 [11:02<02:35,  1.29it/s]"
     ]
    },
    {
     "name": "stdout",
     "output_type": "stream",
     "text": [
      "Epoch 800\n",
      "0.0022238348610699177\n",
      "0.11241936683654785\n"
     ]
    },
    {
     "name": "stderr",
     "output_type": "stream",
     "text": [
      " 81%|████████  | 810/1000 [11:09<02:19,  1.37it/s]"
     ]
    },
    {
     "name": "stdout",
     "output_type": "stream",
     "text": [
      "Epoch 810\n",
      "0.0016449552495032549\n",
      "0.11281295865774155\n"
     ]
    },
    {
     "name": "stderr",
     "output_type": "stream",
     "text": [
      " 82%|████████▏ | 820/1000 [11:17<02:20,  1.28it/s]"
     ]
    },
    {
     "name": "stdout",
     "output_type": "stream",
     "text": [
      "Epoch 820\n",
      "0.001884644152596593\n",
      "0.1125771626830101\n"
     ]
    },
    {
     "name": "stderr",
     "output_type": "stream",
     "text": [
      " 83%|████████▎ | 830/1000 [11:25<02:12,  1.28it/s]"
     ]
    },
    {
     "name": "stdout",
     "output_type": "stream",
     "text": [
      "Epoch 830\n",
      "0.002030889270827174\n",
      "0.1121729239821434\n"
     ]
    },
    {
     "name": "stderr",
     "output_type": "stream",
     "text": [
      " 84%|████████▍ | 840/1000 [11:32<02:01,  1.31it/s]"
     ]
    },
    {
     "name": "stdout",
     "output_type": "stream",
     "text": [
      "Epoch 840\n",
      "0.0019731479696929455\n",
      "0.11280051618814468\n"
     ]
    },
    {
     "name": "stderr",
     "output_type": "stream",
     "text": [
      " 85%|████████▌ | 850/1000 [11:40<01:58,  1.27it/s]"
     ]
    },
    {
     "name": "stdout",
     "output_type": "stream",
     "text": [
      "Epoch 850\n",
      "0.0021219784393906593\n",
      "0.11250344663858414\n"
     ]
    },
    {
     "name": "stderr",
     "output_type": "stream",
     "text": [
      " 86%|████████▌ | 860/1000 [11:48<01:55,  1.21it/s]"
     ]
    },
    {
     "name": "stdout",
     "output_type": "stream",
     "text": [
      "Epoch 860\n",
      "0.0017340632621198893\n",
      "0.1128084659576416\n"
     ]
    },
    {
     "name": "stderr",
     "output_type": "stream",
     "text": [
      " 87%|████████▋ | 870/1000 [11:57<02:00,  1.08it/s]"
     ]
    },
    {
     "name": "stdout",
     "output_type": "stream",
     "text": [
      "Epoch 870\n",
      "0.0015188134275376797\n",
      "0.11230333894491196\n"
     ]
    },
    {
     "name": "stderr",
     "output_type": "stream",
     "text": [
      " 88%|████████▊ | 880/1000 [12:07<01:51,  1.07it/s]"
     ]
    },
    {
     "name": "stdout",
     "output_type": "stream",
     "text": [
      "Epoch 880\n",
      "0.0017715846188366413\n",
      "0.11248131841421127\n"
     ]
    },
    {
     "name": "stderr",
     "output_type": "stream",
     "text": [
      " 89%|████████▉ | 890/1000 [12:15<01:30,  1.21it/s]"
     ]
    },
    {
     "name": "stdout",
     "output_type": "stream",
     "text": [
      "Epoch 890\n",
      "0.001847599633038044\n",
      "0.11240208148956299\n"
     ]
    },
    {
     "name": "stderr",
     "output_type": "stream",
     "text": [
      " 90%|█████████ | 900/1000 [12:23<01:16,  1.31it/s]"
     ]
    },
    {
     "name": "stdout",
     "output_type": "stream",
     "text": [
      "Epoch 900\n",
      "0.0014252449618652463\n",
      "0.11223021894693375\n"
     ]
    },
    {
     "name": "stderr",
     "output_type": "stream",
     "text": [
      " 91%|█████████ | 910/1000 [12:30<01:08,  1.32it/s]"
     ]
    },
    {
     "name": "stdout",
     "output_type": "stream",
     "text": [
      "Epoch 910\n",
      "0.0014196037082001567\n",
      "0.1124703511595726\n"
     ]
    },
    {
     "name": "stderr",
     "output_type": "stream",
     "text": [
      " 92%|█████████▏| 920/1000 [12:38<01:00,  1.32it/s]"
     ]
    },
    {
     "name": "stdout",
     "output_type": "stream",
     "text": [
      "Epoch 920\n",
      "0.0013508482370525599\n",
      "0.11233285814523697\n"
     ]
    },
    {
     "name": "stderr",
     "output_type": "stream",
     "text": [
      " 93%|█████████▎| 930/1000 [12:46<00:53,  1.32it/s]"
     ]
    },
    {
     "name": "stdout",
     "output_type": "stream",
     "text": [
      "Epoch 930\n",
      "0.0012115739518776536\n",
      "0.11229586601257324\n"
     ]
    },
    {
     "name": "stderr",
     "output_type": "stream",
     "text": [
      " 94%|█████████▍| 940/1000 [12:53<00:46,  1.28it/s]"
     ]
    },
    {
     "name": "stdout",
     "output_type": "stream",
     "text": [
      "Epoch 940\n",
      "0.0015992370899766684\n",
      "0.11252876371145248\n"
     ]
    },
    {
     "name": "stderr",
     "output_type": "stream",
     "text": [
      " 95%|█████████▌| 950/1000 [13:01<00:39,  1.27it/s]"
     ]
    },
    {
     "name": "stdout",
     "output_type": "stream",
     "text": [
      "Epoch 950\n",
      "0.0012462304439395666\n",
      "0.11221321672201157\n"
     ]
    },
    {
     "name": "stderr",
     "output_type": "stream",
     "text": [
      " 96%|█████████▌| 960/1000 [13:08<00:22,  1.76it/s]"
     ]
    },
    {
     "name": "stdout",
     "output_type": "stream",
     "text": [
      "Epoch 960\n",
      "0.0013358659343793988\n",
      "0.11228171736001968\n"
     ]
    },
    {
     "name": "stderr",
     "output_type": "stream",
     "text": [
      " 97%|█████████▋| 970/1000 [13:12<00:12,  2.33it/s]"
     ]
    },
    {
     "name": "stdout",
     "output_type": "stream",
     "text": [
      "Epoch 970\n",
      "0.0013213498750701547\n",
      "0.11249908059835434\n"
     ]
    },
    {
     "name": "stderr",
     "output_type": "stream",
     "text": [
      " 98%|█████████▊| 980/1000 [13:17<00:08,  2.37it/s]"
     ]
    },
    {
     "name": "stdout",
     "output_type": "stream",
     "text": [
      "Epoch 980\n",
      "0.00144686340354383\n",
      "0.11232519149780273\n"
     ]
    },
    {
     "name": "stderr",
     "output_type": "stream",
     "text": [
      " 99%|█████████▉| 990/1000 [13:21<00:04,  2.39it/s]"
     ]
    },
    {
     "name": "stdout",
     "output_type": "stream",
     "text": [
      "Epoch 990\n",
      "0.0013821909669786692\n",
      "0.11230214685201645\n"
     ]
    },
    {
     "name": "stderr",
     "output_type": "stream",
     "text": [
      "100%|██████████| 1000/1000 [13:25<00:00,  1.24it/s]"
     ]
    },
    {
     "name": "stdout",
     "output_type": "stream",
     "text": [
      "Epoch 1000\n",
      "0.001136613660492003\n",
      "0.11234676837921143\n",
      "Best epoch = 980\n",
      "Best loss = 0.057130590081214905\n",
      "Fit loss = 0.0010276783723384142\n",
      "Fit losses = {}\n"
     ]
    },
    {
     "name": "stderr",
     "output_type": "stream",
     "text": [
      "\n"
     ]
    },
    {
     "ename": "NameError",
     "evalue": "name 'fit_losses' is not defined",
     "output_type": "error",
     "traceback": [
      "\u001b[0;31m---------------------------------------------------------------------------\u001b[0m",
      "\u001b[0;31mNameError\u001b[0m                                 Traceback (most recent call last)",
      "\u001b[0;32m<ipython-input-7-e155d0567006>\u001b[0m in \u001b[0;36m<module>\u001b[0;34m\u001b[0m\n\u001b[1;32m    246\u001b[0m \u001b[0;32mfor\u001b[0m \u001b[0mlamb\u001b[0m \u001b[0;32min\u001b[0m \u001b[0mlambs\u001b[0m\u001b[0;34m:\u001b[0m\u001b[0;34m\u001b[0m\u001b[0;34m\u001b[0m\u001b[0m\n\u001b[1;32m    247\u001b[0m     \u001b[0mprint\u001b[0m\u001b[0;34m(\u001b[0m\u001b[0;34m\"lamb={}\"\u001b[0m\u001b[0;34m.\u001b[0m\u001b[0mformat\u001b[0m\u001b[0;34m(\u001b[0m\u001b[0mlamb\u001b[0m\u001b[0;34m)\u001b[0m\u001b[0;34m)\u001b[0m\u001b[0;34m\u001b[0m\u001b[0;34m\u001b[0m\u001b[0m\n\u001b[0;32m--> 248\u001b[0;31m     \u001b[0mloss\u001b[0m\u001b[0;34m,\u001b[0m \u001b[0mfit_best\u001b[0m\u001b[0;34m,\u001b[0m \u001b[0mreg_best\u001b[0m \u001b[0;34m=\u001b[0m \u001b[0mtrain\u001b[0m\u001b[0;34m(\u001b[0m\u001b[0mnets\u001b[0m\u001b[0;34m,\u001b[0m \u001b[0mf_z\u001b[0m\u001b[0;34m,\u001b[0m \u001b[0mz\u001b[0m\u001b[0;34m,\u001b[0m \u001b[0mlr\u001b[0m\u001b[0;34m=\u001b[0m\u001b[0;36m1e-3\u001b[0m\u001b[0;34m,\u001b[0m \u001b[0mepochs\u001b[0m\u001b[0;34m=\u001b[0m\u001b[0;36m1000\u001b[0m\u001b[0;34m)\u001b[0m\u001b[0;34m\u001b[0m\u001b[0;34m\u001b[0m\u001b[0m\n\u001b[0m\u001b[1;32m    249\u001b[0m     \u001b[0mbest_losses\u001b[0m\u001b[0;34m.\u001b[0m\u001b[0mappend\u001b[0m\u001b[0;34m(\u001b[0m\u001b[0mfit_best\u001b[0m\u001b[0;34m)\u001b[0m\u001b[0;34m\u001b[0m\u001b[0;34m\u001b[0m\u001b[0m\n\u001b[1;32m    250\u001b[0m     \u001b[0mbest_regs\u001b[0m\u001b[0;34m.\u001b[0m\u001b[0mappend\u001b[0m\u001b[0;34m(\u001b[0m\u001b[0mreg_best\u001b[0m\u001b[0;34m)\u001b[0m\u001b[0;34m\u001b[0m\u001b[0;34m\u001b[0m\u001b[0m\n",
      "\u001b[0;32m<ipython-input-7-e155d0567006>\u001b[0m in \u001b[0;36mtrain\u001b[0;34m(nets, f_z, z, lr, epochs, bs, es_delta, epoch_loss, max_loss_divergence, weight_decay, weight_decay_decay, model)\u001b[0m\n\u001b[1;32m    233\u001b[0m     \u001b[0mprint\u001b[0m\u001b[0;34m(\u001b[0m\u001b[0;34m\"Fit loss = {}\"\u001b[0m\u001b[0;34m.\u001b[0m\u001b[0mformat\u001b[0m\u001b[0;34m(\u001b[0m\u001b[0mfit_loss_best\u001b[0m\u001b[0;34m)\u001b[0m\u001b[0;34m)\u001b[0m\u001b[0;34m\u001b[0m\u001b[0;34m\u001b[0m\u001b[0m\n\u001b[1;32m    234\u001b[0m     \u001b[0mprint\u001b[0m\u001b[0;34m(\u001b[0m\u001b[0;34m\"Fit losses = {}\"\u001b[0m\u001b[0;34m)\u001b[0m\u001b[0;34m\u001b[0m\u001b[0;34m\u001b[0m\u001b[0m\n\u001b[0;32m--> 235\u001b[0;31m     \u001b[0mprint\u001b[0m\u001b[0;34m(\u001b[0m\u001b[0mfit_losses\u001b[0m\u001b[0;34m)\u001b[0m\u001b[0;34m\u001b[0m\u001b[0;34m\u001b[0m\u001b[0m\n\u001b[0m\u001b[1;32m    236\u001b[0m     \u001b[0mdf\u001b[0m \u001b[0;34m=\u001b[0m \u001b[0mpo\u001b[0m\u001b[0;34m.\u001b[0m\u001b[0mDataFrame\u001b[0m\u001b[0;34m(\u001b[0m\u001b[0;34m)\u001b[0m\u001b[0;34m\u001b[0m\u001b[0;34m\u001b[0m\u001b[0m\n\u001b[1;32m    237\u001b[0m     \u001b[0mdf\u001b[0m\u001b[0;34m[\u001b[0m\u001b[0;34m'losses'\u001b[0m\u001b[0;34m]\u001b[0m \u001b[0;34m=\u001b[0m \u001b[0mlosses\u001b[0m\u001b[0;34m\u001b[0m\u001b[0;34m\u001b[0m\u001b[0m\n",
      "\u001b[0;31mNameError\u001b[0m: name 'fit_losses' is not defined"
     ]
    },
    {
     "data": {
      "image/png": "[encoded data removed]",
      "text/plain": [
       "<Figure size 432x288 with 1 Axes>"
      ]
     },
     "metadata": {
      "needs_background": "light"
     },
     "output_type": "display_data"
    }
   ],
   "source": [
    "import os\n",
    "import math\n",
    "import numpy as np\n",
    "import pandas as po\n",
    "import matplotlib.pyplot as plt\n",
    "\n",
    "import torch\n",
    "from torch import nn\n",
    "import torch.optim as optim\n",
    "from torch.autograd import Variable\n",
    "\n",
    "from sklearn.metrics import r2_score\n",
    "from sklearn.metrics import accuracy_score\n",
    "from sklearn.model_selection import train_test_split\n",
    "from tqdm import tqdm\n",
    "\n",
    "#lambs = np.flip([0.01,0.02,0.05,0.1,0.2,0.5,1.0,2.0,5.0,10.0,20.0,50.0,100.0])\n",
    "#lambs = [1e-4,2e-4,5e-4,1e-3,2e-3,5e-3,0.01,0.02,0.05,0.1,0.2,0.5,1.0,2.0,5.0,10.0,20.0,50.0,100.0,200,500,1000]\n",
    "lambs = [0.5]\n",
    "#lambs = np.array([0.01,0.02,0.05,0.1,0.2,0.5,1.0,2.0,5.0,10.0])\n",
    "wx = 17\n",
    "wy = 23\n",
    "folder = \"2D_{}_{}\".format(wx,wy)\n",
    "\n",
    "wy = wy/wx\n",
    "wx = 1\n",
    "\n",
    "seed = 0\n",
    "torch.manual_seed(seed)\n",
    "np.random.seed(seed)\n",
    "\n",
    "best_losses = []\n",
    "best_regs = []\n",
    "\n",
    "num_pts = 1000\n",
    "#gamma = 10\n",
    "#lamb = 0.02\n",
    "\n",
    "data = po.DataFrame()\n",
    "data['x'] = 4*np.random.rand(num_pts,)-2\n",
    "data['px'] = 4*np.random.rand(num_pts,)-2\n",
    "\n",
    "data['y'] = 4*np.random.rand(num_pts,)-2\n",
    "data['py'] = 4*np.random.rand(num_pts,)-2\n",
    "\n",
    "\n",
    "data['dx/dt'] = data['px']\n",
    "data['dpx/dt'] = -wx**2*data['x']\n",
    "\n",
    "data['dy/dt'] = data['py']\n",
    "data['dpy/dt'] = -wy**2*data['y']\n",
    "\n",
    "\n",
    "f_z = torch.tensor(data[['dx/dt', 'dpx/dt', 'dy/dt', 'dpy/dt']].values, requires_grad=True).float()\n",
    "z = torch.tensor(data[['x', 'px', 'y', 'py']].values, requires_grad=True).float()\n",
    "\n",
    "\n",
    "# initialize network\n",
    "num_model = 4\n",
    "nets = []\n",
    "\n",
    "class Hnet(nn.Module):\n",
    "    def __init__(self, z_dim=2, w=400):\n",
    "        super(Hnet, self).__init__()\n",
    "        self.z_dim = z_dim\n",
    "        input_dim = z_dim\n",
    "\n",
    "        self.h_lin_1 = nn.Linear(input_dim, w) #\n",
    "        self.h_lin_2 = nn.Linear(w, w) #\n",
    "        self.h_lin_3 = nn.Linear(w, 1) #\n",
    "        self.h_relu = nn.ReLU()\n",
    "        self.h_tanh = nn.Tanh()\n",
    "        self.h_silu = nn.SiLU()\n",
    "\n",
    "    def h_z_basic(self, z):\n",
    "        out = self.h_lin_1(z)\n",
    "        out = self.h_silu(out)\n",
    "        out = self.h_lin_2(out)\n",
    "        out = self.h_silu(out)\n",
    "        out = self.h_lin_3(out)\n",
    "        return out\n",
    "\n",
    "    def h_z(self, z):\n",
    "        out = self.h_z_basic(z)\n",
    "        return out\n",
    "\n",
    "    def forward(self, z, verbose=False):\n",
    "        bs = z.shape[0]\n",
    "\n",
    "        h = self.h_z(z)\n",
    "        dh = torch.autograd.grad(h, z, torch.ones_like(h), create_graph=True, retain_graph=True)[0]\n",
    "        bs = z.shape[0]\n",
    "        dh = dh.reshape(bs,-1)\n",
    "        return dh\n",
    "\n",
    "\n",
    "def train(nets, f_z, z,\n",
    "            lr=2e-2,\n",
    "            epochs = 2000, \n",
    "            bs = 100,\n",
    "            es_delta = 0.000001, \n",
    "            epoch_loss = 1e9,\n",
    "            max_loss_divergence = 0.1,\n",
    "            weight_decay=0, \n",
    "            weight_decay_decay=False,model=None):\n",
    "\n",
    "\n",
    "    num_model = len(nets)\n",
    "\n",
    "    z_dim = z.shape[1]\n",
    "    entropy_dim = np.minimum(num_model, z_dim)\n",
    "    parameters = list([])\n",
    "    for i in range(num_model):\n",
    "        parameters = list(parameters) + list(nets[i].parameters())\n",
    "    optimizer = optim.Adam(parameters, lr=lr, weight_decay=weight_decay, eps=1e-8)\n",
    "    #optimizer = optim.SGD(parameters, lr=lr, weight_decay=weight_decay)\n",
    "\n",
    "    for k in range(num_model):\n",
    "        nets[k].train()\n",
    "    losses = []\n",
    "    losses_fit = []\n",
    "    losses_reg = []\n",
    "    lamb_H = 0.00\n",
    "    lamb_dH = lamb\n",
    "    loss_pow = 2\n",
    "\n",
    "\n",
    "    for epoch in tqdm(range(epochs)):\n",
    "        for i in range((len(f_z) - 1) // bs + 1):\n",
    "            choices = np.random.choice(len(f_z), bs, replace=False)\n",
    "            #start_i = i * bs\n",
    "            #end_i = start_i + bs\n",
    "            xb = z[choices, :]\n",
    "            fitloss = 0.\n",
    "            fitlosses = []\n",
    "            yb = f_z[choices, :]\n",
    "            yb = yb.reshape(bs,-1)\n",
    "            yb_norm = yb/torch.linalg.norm(yb, dim=1, keepdim=True)\n",
    "            #print(\"yb\", yb_norm.shape)\n",
    "            for k in range(num_model):\n",
    "                pred = nets[k](xb)\n",
    "                #print(\"pred\", pred.shape)\n",
    "                pred_norm = pred/torch.linalg.norm(pred, dim=1, keepdim=True)\n",
    "                fit_orth = torch.matmul(yb_norm.unsqueeze(dim=1), pred_norm.unsqueeze(dim=2))\n",
    "                #print(fit_orth.shape)\n",
    "                fitloss_ =  torch.mean(torch.abs(fit_orth)**loss_pow)\n",
    "                #fitloss_each.append(fitloss_.detach().numpy())\n",
    "                fitloss = fitloss + fitloss_\n",
    "                fitlosses.append(fitloss_.item())\n",
    "                H_ = nets[k].h_z(xb)\n",
    "                dhi = pred_norm\n",
    "\n",
    "                if k == 0:\n",
    "                    H = H_\n",
    "                    dH = dhi.unsqueeze(dim=0)\n",
    "\n",
    "                else:\n",
    "                    H = torch.cat((H,H_), dim=1)\n",
    "                    dH = torch.cat([dH,dhi.unsqueeze(dim=0)])\n",
    "\n",
    "            fitloss = fitloss/num_model\n",
    "            # correlation loss\n",
    "            H = torch.transpose(H,0,1)\n",
    "            # dH.shape = (bs, num_model, z_dim)\n",
    "            dH = torch.transpose(dH,0,1)\n",
    "\n",
    "            # SVD dH\n",
    "            u, s, v = torch.svd(dH)\n",
    "            exp_ratio = s**2/torch.sum(s**2, dim=1,keepdim=True)\n",
    "            exp_av = torch.mean(exp_ratio,dim=0)\n",
    "\n",
    "            # H regularization\n",
    "            corr_mat = torch.corrcoef(H)\n",
    "            if num_model == 1:\n",
    "                reg_H = torch.tensor(0., dtype=torch.float)\n",
    "            else:\n",
    "                reg_H = (torch.sum(corr_mat**loss_pow)-num_model)/(num_model*(num_model-1))\n",
    "\n",
    "            orth_mat = torch.mean(torch.abs(torch.matmul(dH, torch.transpose(dH,1,2)))**loss_pow, dim=0)\n",
    "            #print(orth_mat)\n",
    "            if num_model == 1:\n",
    "                reg_dH = torch.tensor(0., dtype=torch.float)\n",
    "            else:\n",
    "                reg_dH = (torch.sum(orth_mat)-num_model)/(num_model*(num_model-1))\n",
    "\n",
    "            loss = fitloss + lamb_H*reg_H + lamb_dH*reg_dH\n",
    "\n",
    "            loss.backward()\n",
    "            optimizer.step()   \n",
    "\n",
    "            optimizer.zero_grad()\n",
    "\n",
    "            losses.append(loss.item())\n",
    "            losses_fit.append(fitloss.item())\n",
    "            losses_reg.append(reg_dH.item())\n",
    "            #print(loss.item(), fitloss.item(), reg_dH.item())\n",
    "\n",
    "        # Best epoch loss (save best only)\n",
    "        if (loss<epoch_loss):\n",
    "            epoch_loss = loss\n",
    "            epoch_best = epoch\n",
    "            fit_loss_best = fitloss\n",
    "            fit_losses_best = fitlosses\n",
    "            reg_loss_best = reg_dH\n",
    "            #print(\"Saving model at epoch {}, current best epoch loss = {}\".format(epoch, epoch_loss))\n",
    "            for k in range(num_model):\n",
    "                torch.save(nets[k].state_dict(), \"./results/\"+folder+\"/{}.pt\".format(k))\n",
    "            np.save(\"./results/\"+folder+\"/fit_loss.npy\", fitlosses)\n",
    "            np.save(\"./results/\"+folder+\"/dH_explained.npy\", exp_av.detach().numpy())\n",
    "\n",
    "        # Early Stopping\n",
    "        #if ((loss<es_delta) or abs(epoch_loss-loss)>max_loss_divergence):\n",
    "        #    break\n",
    "\n",
    "        # Print loss\n",
    "        if ((epoch+1)%10==0):\n",
    "            print(\"Epoch {}\".format(epoch+1))\n",
    "            print(fitloss.item())\n",
    "            #print(fitlosses)\n",
    "            #print(corr_mat)\n",
    "            #print(reg_H.item())\n",
    "            #print(orth_mat)\n",
    "            print(reg_dH.item())\n",
    "            #print(exp_av)\n",
    "\n",
    "    plt.plot(losses)\n",
    "    plt.plot(losses_fit)\n",
    "    plt.plot(losses_reg)\n",
    "    plt.yscale('log')\n",
    "\n",
    "    print(\"Best epoch = {}\".format(epoch_best))\n",
    "    print(\"Best loss = {}\".format(epoch_loss))\n",
    "    print(\"Fit loss = {}\".format(fit_loss_best))\n",
    "    print(\"Fit losses = {}\")\n",
    "    print(fit_losses)\n",
    "    df = po.DataFrame()\n",
    "    df['losses'] = losses\n",
    "\n",
    "    return losses, fit_loss_best.detach().numpy(), reg_loss_best.detach().numpy()\n",
    "\n",
    "\n",
    "for i in range(num_model):\n",
    "    nets.append(Hnet(z_dim=4, w=400))\n",
    "\n",
    "\n",
    "for lamb in lambs:\n",
    "    print(\"lamb={}\".format(lamb))\n",
    "    loss, fit_best, reg_best = train(nets, f_z, z, lr=1e-3, epochs=1000) \n",
    "    best_losses.append(fit_best)\n",
    "    best_regs.append(reg_best)"
   ]
  },
  {
   "cell_type": "code",
   "execution_count": 30,
   "metadata": {},
   "outputs": [
    {
     "name": "stderr",
     "output_type": "stream",
     "text": [
      "/home/luke/anaconda3/envs/zimingenv/lib/python3.6/site-packages/ipykernel_launcher.py:7: UserWarning: Attempted to set non-positive bottom ylim on a log-scaled axis.\n",
      "Invalid limit will be ignored.\n",
      "  import sys\n"
     ]
    },
    {
     "data": {
      "text/plain": [
       "(5.757693509720421e-08, 1.5)"
      ]
     },
     "execution_count": 30,
     "metadata": {},
     "output_type": "execute_result"
    },
    {
     "data": {
      "image/png": "[encoded data removed]",
      "text/plain": [
       "<Figure size 432x288 with 1 Axes>"
      ]
     },
     "metadata": {
      "needs_background": "light"
     },
     "output_type": "display_data"
    }
   ],
   "source": [
    "plt.plot(lambs, best_losses, marker=\"o\")\n",
    "plt.plot(lambs, best_regs, marker=\"o\")\n",
    "plt.xscale('log')\n",
    "plt.yscale('log')\n",
    "plt.xlabel(r'$\\lambda$',fontsize=15)\n",
    "plt.ylabel('MSE Loss', fontsize=15)\n",
    "plt.ylim(-0.01,1.5)"
   ]
  },
  {
   "cell_type": "code",
   "execution_count": 31,
   "metadata": {},
   "outputs": [],
   "source": [
    "np.save('./results/lambda_search_2dho_1.npy', np.array([lambs, best_losses, best_regs]))"
   ]
  },
  {
   "cell_type": "code",
   "execution_count": 36,
   "metadata": {},
   "outputs": [
    {
     "data": {
      "image/png": "[encoded data removed]",
      "text/plain": [
       "<Figure size 864x288 with 2 Axes>"
      ]
     },
     "metadata": {
      "needs_background": "light"
     },
     "output_type": "display_data"
    }
   ],
   "source": [
    "plt.figure(figsize=(12,4))\n",
    "\n",
    "plt.subplot(1,2,1)\n",
    "\n",
    "data = np.load('./results/lambda_search_2dho_1.npy')\n",
    "lambs = data[0]\n",
    "best_losses = data[1]\n",
    "best_regs = data[2]\n",
    "\n",
    "plt.plot(lambs, best_losses, marker=\"o\")\n",
    "plt.plot(lambs, best_regs, marker=\"o\")\n",
    "plt.xscale('log')\n",
    "#plt.yscale('log')\n",
    "plt.xlabel(r'$\\lambda$',fontsize=15)\n",
    "plt.ylabel('Loss', fontsize=15)\n",
    "plt.legend([r\"$\\ell_1$\", r\"$\\ell_2$\"], fontsize=15, loc=\"upper right\")\n",
    "plt.ylim(-0.01,0.4)\n",
    "plt.title(r\"$(\\omega_x,\\omega_y)=(1,1)$\", fontsize=15)\n",
    "\n",
    "\n",
    "plt.subplot(1,2,2)\n",
    "\n",
    "data = np.load('./results/lambda_search_2dho_sqrt2.npy')\n",
    "lambs = data[0]\n",
    "best_losses = data[1]\n",
    "best_regs = data[2]\n",
    "\n",
    "plt.plot(lambs, best_losses, marker=\"o\")\n",
    "plt.plot(lambs, best_regs, marker=\"o\")\n",
    "plt.xscale('log')\n",
    "#plt.yscale('log')\n",
    "plt.xlabel(r'$\\lambda$',fontsize=15)\n",
    "plt.ylabel('Loss', fontsize=15)\n",
    "#plt.legend([r\"$\\ell_1$\", r\"$\\ell_2$\"], fontsize=15, loc=\"upper right\")\n",
    "plt.ylim(-0.01,0.4)\n",
    "plt.title(r\"$(\\omega_x,\\omega_y)=(1,\\sqrt{2})$\", fontsize=15)\n",
    "plt.savefig('./2d_ho_lamb_pt.pdf', bbox_inches=\"tight\")"
   ]
  },
  {
   "cell_type": "code",
   "execution_count": null,
   "metadata": {},
   "outputs": [],
   "source": []
  }
 ],
 "metadata": {
  "kernelspec": {
   "display_name": "Python 3",
   "language": "python",
   "name": "python3"
  },
  "language_info": {
   "codemirror_mode": {
    "name": "ipython",
    "version": 3
   },
   "file_extension": ".py",
   "mimetype": "text/x-python",
   "name": "python",
   "nbconvert_exporter": "python",
   "pygments_lexer": "ipython3",
   "version": "3.6.10"
  }
 },
 "nbformat": 4,
 "nbformat_minor": 4
}
